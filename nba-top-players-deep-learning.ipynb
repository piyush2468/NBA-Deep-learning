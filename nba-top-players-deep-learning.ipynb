{
 "cells": [
  {
   "cell_type": "markdown",
   "metadata": {
    "_uuid": "687bb5726cc00a76ab0e74ca7fe88531b40d979f"
   },
   "source": [
    "# TABLE OF CONTENTS\n",
    "\n",
    "1. [Introduction](#introduction)\n",
    "2. [Players Position and Age distribution of players ](#analysis)\n",
    "3.  [Points per game  ](#ppg)\n",
    "4.  [Assists per game](#apg)\n",
    "5.  [ Field goal average per game ](#fgpg)\n",
    "6.  [Rebounds per game ](#rpg)\n",
    "7.  [Turnover per game](#tpg)\n",
    "8. [2 points average per game](#twoppg)\n",
    "9. [3 points average per game](#threeppg)\n",
    "10. [Dribbles per game](#dpg)\n",
    "11. [Players career length](#lengthycareer)\n",
    "12. [Top 10 best players of NBA ](#best)\n",
    "13. [State which produced most NBA players ](#state)\n",
    "14. [Wordcloud for players colleges](#colleges)\n",
    "15. [Deep learning for predicting PPG of players](#keras)\n",
    "16.  [Conclusion](#conclusion)"
   ]
  },
  {
   "cell_type": "markdown",
   "metadata": {
    "_uuid": "564e6ece965647c1cb9be1bf165d7b817cd55c03"
   },
   "source": [
    "# Introduction\n",
    "<a id=\"introduction\" ></a>\n",
    " **National Basketball Association (NBA) is a men's professional basketball league in North America; composed of 30 teams (29 in the United States and 1 in Canada). It is widely considered to be the premier men's professional basketball league in the world. The NBA is an active member of USA Basketball (USAB), which is recognized by FIBA (also known as the International Basketball Federation) as the national governing body for basketball in the United States. The NBA is one of the four major professional sports leagues in the United States and Canada. NBA players are the world's best paid athletes by average annual salary per player.**\n",
    "\n",
    "**The league was founded in New York City on June 6, 1946, as the Basketball Association of America (BAA). The league adopted the name National Basketball Association on August 3, 1949, after merging with the competing National Basketball League (NBL). The league's several international as well as individual team offices are directed out of its head offices located in the Olympic Tower at 645 Fifth Avenue in Manhattan. NBA Entertainment and NBA TV studios are directed out of offices located in Secaucus, New Jersey.**"
   ]
  },
  {
   "cell_type": "markdown",
   "metadata": {
    "_uuid": "4aa7420cce458ee311a2ec6ef95fd46e10e3ce17"
   },
   "source": [
    "![](https://cdn.nba.net/nba-drupal-prod/2017-08/SEO-image-NBA-logoman.jpg)"
   ]
  },
  {
   "cell_type": "code",
   "execution_count": null,
   "metadata": {
    "_cell_guid": "b1076dfc-b9ad-4769-8c92-a6c4dae69d19",
    "_kg_hide-input": true,
    "_kg_hide-output": true,
    "_uuid": "8f2839f25d086af736a60e9eeb907d3b93b6e0e5"
   },
   "outputs": [],
   "source": [
    "# This Python 3 environment comes with many helpful analytics libraries installed\n",
    "# It is defined by the kaggle/python docker image: https://github.com/kaggle/docker-python\n",
    "# For example, here's several helpful packages to load in \n",
    "\n",
    "import numpy as np # linear algebra\n",
    "import pandas as pd # data processing, CSV file I/O (e.g. pd.read_csv)\n",
    "import seaborn as sns\n",
    "import plotly.offline as py\n",
    "from plotly.offline import init_notebook_mode, iplot\n",
    "import plotly.graph_objs as go\n",
    "from plotly import tools\n",
    "init_notebook_mode(connected=True)  \n",
    "import plotly.figure_factory as ff\n",
    "# Input data files are available in the \"../input/\" directory.\n",
    "# For example, running this (by clicking run or pressing Shift+Enter) will list the files in the input directory\n",
    "\n",
    "\n",
    "# Any results you write to the current directory are saved as output."
   ]
  },
  {
   "cell_type": "code",
   "execution_count": null,
   "metadata": {
    "_cell_guid": "79c7e3d0-c299-4dcb-8224-4455121ee9b0",
    "_kg_hide-input": true,
    "_kg_hide-output": true,
    "_uuid": "d629ff2d2480ee46fbb7e2d37f6b5fab8052498a"
   },
   "outputs": [],
   "source": [
    "players = pd.read_csv('Players.csv')\n",
    "players.head()"
   ]
  },
  {
   "cell_type": "code",
   "execution_count": null,
   "metadata": {
    "_kg_hide-input": true,
    "_kg_hide-output": true,
    "_uuid": "afbcc95e0a3f931c9c50c21531999e3e0a71f578"
   },
   "outputs": [],
   "source": [
    "players_data = pd.read_csv('player_data.csv')\n",
    "players_data.head()"
   ]
  },
  {
   "cell_type": "code",
   "execution_count": null,
   "metadata": {
    "_kg_hide-input": true,
    "_kg_hide-output": true,
    "_uuid": "1e9e825d9e285a6f20f6d33dd5ac73780d0451b4"
   },
   "outputs": [],
   "source": [
    "players_data.rename(columns={'name': 'Player'}, inplace=True)"
   ]
  },
  {
   "cell_type": "code",
   "execution_count": null,
   "metadata": {
    "_kg_hide-input": true,
    "_uuid": "7be62fea54d57c0e5ebeacf987e3435c9160979f"
   },
   "outputs": [],
   "source": [
    "players_data= players_data.fillna('No College')"
   ]
  },
  {
   "cell_type": "code",
   "execution_count": null,
   "metadata": {
    "_kg_hide-input": true,
    "_kg_hide-output": true,
    "_uuid": "6626c348cdde4341cff966960ad4ed21b0bca657"
   },
   "outputs": [],
   "source": [
    "final_df = pd.read_csv('Seasons_Stats.csv')\n",
    "final_df.head()"
   ]
  },
  {
   "cell_type": "code",
   "execution_count": null,
   "metadata": {
    "_kg_hide-input": true,
    "_uuid": "99bf6818b529c113058b797fdbe95c8f44797f64"
   },
   "outputs": [],
   "source": [
    "from mpl_toolkits.mplot3d import Axes3D\n",
    "from sklearn.preprocessing import StandardScaler\n",
    "import matplotlib.pyplot as plt\n",
    "def plotPerColumnDistribution(df, nGraphShown, nGraphPerRow):\n",
    "    nunique = df.nunique()\n",
    "    df = df[[col for col in df if nunique[col] > 1 and nunique[col] < 50]] # For displaying purposes, pick columns that have between 1 and 50 unique values\n",
    "    nRow, nCol = df.shape\n",
    "    columnNames = list(df)\n",
    "    nGraphRow = (nCol + nGraphPerRow - 1) / nGraphPerRow\n",
    "    plt.figure(num = None, figsize = (6 * nGraphPerRow, 8 * nGraphRow), dpi = 80, facecolor = 'w', edgecolor = 'k')\n",
    "    for i in range(min(nCol, nGraphShown)):\n",
    "        plt.subplot(nGraphRow, nGraphPerRow, i + 1)\n",
    "        columnDf = df.iloc[:, i]\n",
    "        if (not np.issubdtype(type(columnDf.iloc[0]), np.number)):\n",
    "            valueCounts = columnDf.value_counts()\n",
    "            valueCounts.plot.bar()\n",
    "        else:\n",
    "            columnDf.hist()\n",
    "        plt.ylabel('counts')\n",
    "        plt.xticks(rotation = 90)\n",
    "        plt.title(f'{columnNames[i]} (column {i})')\n",
    "    plt.tight_layout(pad = 1.0, w_pad = 1.0, h_pad = 1.0)\n",
    "    plt.show()"
   ]
  },
  {
   "cell_type": "markdown",
   "metadata": {
    "_uuid": "d1919604546c5009bb5b75181aa3e160d6517a47"
   },
   "source": [
    "# Players position and age distribution\n",
    "<a id=\"analysis\" ></a>"
   ]
  },
  {
   "cell_type": "code",
   "execution_count": null,
   "metadata": {
    "_kg_hide-input": true,
    "_uuid": "b7d93d8b4540dd660c23fc27a5539ce04cadd72c"
   },
   "outputs": [],
   "source": [
    "plotPerColumnDistribution(final_df, 84, 10)"
   ]
  },
  {
   "cell_type": "markdown",
   "metadata": {
    "_uuid": "67b2512a68529d7ed448cf7a8eab2d649c421d5d"
   },
   "source": [
    "**The  five basketball positions normally employed by organized basketball teams are the point guard (PG), the shooting guard (SG), the small forward (SF), the power forward (PF), and the center (C).**\n",
    "![](https://upload.wikimedia.org/wikipedia/commons/a/ac/Basketball_Positions.png)"
   ]
  },
  {
   "cell_type": "markdown",
   "metadata": {
    "_uuid": "5de9e71a9102fa32430a5ff6299f4d83ef38a0e5"
   },
   "source": [
    "**Most players age lies into their 20s as that's when they get drafted or hit the prime into NBA. **"
   ]
  },
  {
   "cell_type": "code",
   "execution_count": null,
   "metadata": {
    "_kg_hide-input": true,
    "_uuid": "6f310e9de5c9873864db99852a9738a09c89ff0d"
   },
   "outputs": [],
   "source": [
    "import random\n",
    "def random_colors(number_of_colors):\n",
    "    color = [\"#\"+''.join([random.choice('0123456789ABCDEF') for j in range(6)])\n",
    "                 for i in range(number_of_colors)]\n",
    "    return color"
   ]
  },
  {
   "cell_type": "code",
   "execution_count": null,
   "metadata": {
    "_kg_hide-input": true,
    "_uuid": "aa8d8ebd41f16445057b780e18f343d3f1ad7c3d"
   },
   "outputs": [],
   "source": [
    "final_df['ppg'] = final_df.PTS/final_df.G"
   ]
  },
  {
   "cell_type": "code",
   "execution_count": null,
   "metadata": {
    "_kg_hide-input": true,
    "_uuid": "eeebd2cb251d2dd738c297f93711ef3cb49f2f02"
   },
   "outputs": [],
   "source": [
    "ppg = pd.DataFrame()\n",
    "ppg['player'] = final_df.groupby('Player').mean()['ppg'].index\n",
    "ppg['PPG'] = final_df.groupby('Player').mean()['ppg'].values\n",
    "ppg= ppg.sort_values('PPG', ascending = False).head(10)"
   ]
  },
  {
   "cell_type": "markdown",
   "metadata": {
    "_uuid": "d66e60086acfbb854328748d7503ee6ce39e0200"
   },
   "source": [
    "# Points per game \n"
   ]
  },
  {
   "cell_type": "code",
   "execution_count": null,
   "metadata": {
    "_kg_hide-input": true,
    "_uuid": "7bd61d8c67fc73587af933207add540e442bc486"
   },
   "outputs": [],
   "source": [
    "trace0 = go.Bar(\n",
    "    x=ppg['player'].head(10),\n",
    "    y=ppg['PPG'].head(10),\n",
    "    marker=dict(\n",
    "        color= random_colors(10),\n",
    "       \n",
    "        \n",
    "    ),\n",
    "    opacity=0.6\n",
    ")\n",
    "\n",
    "data = [trace0]\n",
    "layout = go.Layout(\n",
    "    title='Top ten players with high points per game',\n",
    ")\n",
    "\n",
    "fig = go.Figure(data=data, layout=layout)\n",
    "py.iplot(fig, filename='text-hover-bar')"
   ]
  },
  {
   "cell_type": "code",
   "execution_count": null,
   "metadata": {
    "_kg_hide-input": true,
    "_uuid": "ffd419d8a8f1099f2ceaabf913e35e3b2f6a49e7"
   },
   "outputs": [],
   "source": [
    "# Create and style traces\n",
    "trace0 = go.Scatter(\n",
    "    x = final_df.Year[final_df.Player == 'Wilt Chamberlain*'],\n",
    "    y = final_df.ppg[final_df.Player == 'Wilt Chamberlain*'],\n",
    "    name = 'Wilt Chamberlain',\n",
    "    connectgaps=True,\n",
    "    line = dict(\n",
    "        color = ('rgb(205, 12, 24)'),\n",
    "        width = 4)\n",
    ")\n",
    "trace1 = go.Scatter(\n",
    "    x = final_df.Year[final_df.Player == 'Michael Jordan*'],\n",
    "    y = final_df.ppg[final_df.Player == 'Michael Jordan*'],\n",
    "    name = 'Michael Jordan',\n",
    "    connectgaps=True,\n",
    "    line = dict(\n",
    "        color = ('rgb(22, 96, 167)'),\n",
    "        width = 4,)\n",
    ")\n",
    "trace2 = go.Scatter(\n",
    "    x = final_df.Year[final_df.Player == 'LeBron James'],\n",
    "    y = final_df.ppg[final_df.Player == 'LeBron James'],\n",
    "    name = 'LeBron James',\n",
    "    connectgaps=True,\n",
    "    line = dict(\n",
    "        color = ('rgb(205, 12, 24)'),\n",
    "        width = 4,\n",
    "        dash = 'dash') # dash options include 'dash', 'dot', and 'dashdot'\n",
    ")\n",
    "trace3 = go.Scatter(\n",
    "    x = final_df.Year[final_df.Player == 'Kevin Durant'],\n",
    "    y = final_df.ppg[final_df.Player == 'Kevin Durant'],\n",
    "    name = 'Kevin Durant',\n",
    "    connectgaps=True,\n",
    "    line = dict(\n",
    "        color = ('rgb(22, 96, 167)'),\n",
    "        width = 4,\n",
    "        dash = 'dash')\n",
    ")\n",
    "trace4 = go.Scatter(\n",
    "    x = final_df.Year[final_df.Player == 'Jerry West*'],\n",
    "    y = final_df.ppg[final_df.Player == 'Jerry West*'],\n",
    "    name = 'Jerry West',\n",
    "    connectgaps=True,\n",
    "    line = dict(\n",
    "        color = ('rgb(205, 12, 24)'),\n",
    "        width = 4,\n",
    "        dash = 'dot')\n",
    ")\n",
    "trace5 = go.Scatter(\n",
    "    x = final_df.Year[final_df.Player == 'George Gervin*'],\n",
    "    y = final_df.ppg[final_df.Player == 'George Gervin*'],\n",
    "    name = 'George Gervin',\n",
    "    connectgaps=True,\n",
    "    line = dict(\n",
    "        color = ('rgb(22, 96, 167)'),\n",
    "        width = 4,\n",
    "        dash = 'dot')\n",
    ")\n",
    "trace6 = go.Scatter(\n",
    "    x = final_df.Year[final_df.Player == 'Bob Pettit'],\n",
    "    y = final_df.ppg[final_df.Player == 'Bob Pettit'],\n",
    "    name = 'Bob Pettit',\n",
    "    connectgaps=True,\n",
    "    line = dict(\n",
    "        color = ('rgb(222, 96, 167)'),\n",
    "        width = 4,\n",
    "        dash = 'dot')\n",
    ")\n",
    "trace7 = go.Scatter(\n",
    "    x = final_df.Year[final_df.Player == 'Oscar Robertson*'],\n",
    "    y = final_df.ppg[final_df.Player == 'Oscar Robertson*'],\n",
    "    name = 'Oscar Robertson',\n",
    "    connectgaps=True,\n",
    "    line = dict(\n",
    "        color = ('rgb(212, 96, 167)'),\n",
    "        width = 4,\n",
    "        dash = 'dot')\n",
    ")\n",
    "data1 = [trace0, trace1, trace2, trace3, trace4, trace5, trace6, trace7]\n",
    "\n",
    "# Edit the layout\n",
    "layout = dict(title = 'Points per game for Top players',\n",
    "              xaxis = dict(title = 'Year'),\n",
    "              yaxis = dict(title = 'PPG'),\n",
    "              )\n",
    "\n",
    "fig = dict(data=data1, layout=layout)\n",
    "py.iplot(fig, filename='styled-line')"
   ]
  },
  {
   "cell_type": "markdown",
   "metadata": {
    "_uuid": "cd71d9630ac92aa6b05d4d2757d94e5a013f4b50"
   },
   "source": [
    "**Wilt Chamberlain is regarded as one of the most dominant scorers in the NBA history. Known as the first and only player to score 100 points in a single NBA game, he was a two time NBA Champion(1967,1972) and was a four-time NBA MVP.**\n",
    "\n",
    "**Chamberlain attended High school at Overbrook and went to college at the University of Kansas. He was selected as a territorial pick in the 1959 NBA Draft by the Philadelphia Warriors and won Rookie of the Year award. He holds numerous NBA records, which are nearly impossible to break.**\n",
    "\n",
    "**Wilt Chamberlain won seven scoring titles, which is the second most of all time and has an incredible 30.07 points per game average with 31,419 points scored in 1045 games played. He also holds a record for most points scored in a single season with an average of 50.36 points per game.****"
   ]
  },
  {
   "cell_type": "code",
   "execution_count": null,
   "metadata": {
    "_kg_hide-input": true,
    "_uuid": "e3c6c0c76a7872f83fc9b7042586e83552471507"
   },
   "outputs": [],
   "source": [
    "final_df['apg'] = final_df.AST/final_df.G"
   ]
  },
  {
   "cell_type": "code",
   "execution_count": null,
   "metadata": {
    "_kg_hide-input": true,
    "_uuid": "aa7ab77afc349101767e47c05f9c260d8d94414b"
   },
   "outputs": [],
   "source": [
    "apg = pd.DataFrame()\n",
    "apg['player'] = final_df.groupby('Player').mean()['apg'].index\n",
    "apg['APG'] = final_df.groupby('Player').mean()['apg'].values\n",
    "apg= apg.sort_values('APG', ascending = False).head(10)"
   ]
  },
  {
   "cell_type": "markdown",
   "metadata": {
    "_uuid": "69211fa3bbbce4656568bc6de332a562f533beec"
   },
   "source": [
    "# Assists per game"
   ]
  },
  {
   "cell_type": "code",
   "execution_count": null,
   "metadata": {
    "_kg_hide-input": true,
    "_uuid": "58a1574fd86c02a5b8be05683a756f624e22b430"
   },
   "outputs": [],
   "source": [
    "trace0 = go.Bar(\n",
    "    x=apg['player'].head(10),\n",
    "    y=apg['APG'].head(10),\n",
    "    marker=dict(\n",
    "        color= random_colors(10),\n",
    "       \n",
    "        \n",
    "    ),\n",
    "    opacity=0.6\n",
    ")\n",
    "\n",
    "data = [trace0]\n",
    "layout = go.Layout(\n",
    "    title='Top ten players with high assists per game',\n",
    ")\n",
    "\n",
    "fig = go.Figure(data=data, layout=layout)\n",
    "py.iplot(fig, filename='text-hover-bar')"
   ]
  },
  {
   "cell_type": "code",
   "execution_count": null,
   "metadata": {
    "_kg_hide-input": true,
    "_uuid": "6a40524ce403c96edf0310eb052e6f3e3f6210f0"
   },
   "outputs": [],
   "source": [
    "# Create and style traces\n",
    "trace0 = go.Scatter(\n",
    "    x = final_df.Year[final_df.Player == 'Magic Johnson*'],\n",
    "    y = final_df.apg[final_df.Player == 'Magic Johnson*'],\n",
    "    name = 'Magic Johnson',\n",
    "    connectgaps=True,\n",
    "    line = dict(\n",
    "        color = ('rgb(205, 12, 24)'),\n",
    "        width = 4)\n",
    ")\n",
    "trace1 = go.Scatter(\n",
    "    x = final_df.Year[final_df.Player == 'John Stockton*'],\n",
    "    y = final_df.apg[final_df.Player == 'John Stockton*'],\n",
    "    name = 'John Stockton',\n",
    "    connectgaps=True,\n",
    "    line = dict(\n",
    "        color = ('rgb(22, 96, 167)'),\n",
    "        width = 4,)\n",
    ")\n",
    "trace2 = go.Scatter(\n",
    "    x = final_df.Year[final_df.Player == 'Oscar Robertson*'],\n",
    "    y = final_df.apg[final_df.Player == 'Oscar Robertson*'],\n",
    "    name = 'Oscar Robertson',\n",
    "    connectgaps=True,\n",
    "    line = dict(\n",
    "        color = ('rgb(205, 12, 24)'),\n",
    "        width = 4,\n",
    "        dash = 'dash') # dash options include 'dash', 'dot', and 'dashdot'\n",
    ")\n",
    "trace3 = go.Scatter(\n",
    "    x = final_df.Year[final_df.Player == 'Chris Paul'],\n",
    "    y = final_df.apg[final_df.Player == 'Chris Paul'],\n",
    "    name = 'Chris Paul',\n",
    "    connectgaps=True,\n",
    "    line = dict(\n",
    "        color = ('rgb(22, 96, 167)'),\n",
    "        width = 4,\n",
    "        dash = 'dash')\n",
    ")\n",
    "trace4 = go.Scatter(\n",
    "    x = final_df.Year[final_df.Player == 'Isiah Thomas*'],\n",
    "    y = final_df.apg[final_df.Player == 'Isiah Thomas*'],\n",
    "    name = 'Isiah Thomas',\n",
    "    connectgaps=True,\n",
    "    line = dict(\n",
    "        color = ('rgb(205, 12, 24)'),\n",
    "        width = 4,\n",
    "        dash = 'dot')\n",
    ")\n",
    "trace5 = go.Scatter(\n",
    "    x = final_df.Year[final_df.Player == 'John Wall'],\n",
    "    y = final_df.apg[final_df.Player == 'John Wall'],\n",
    "    name = 'John Wall',\n",
    "    connectgaps=True,\n",
    "    line = dict(\n",
    "        color = ('rgb(22, 96, 167)'),\n",
    "        width = 4,\n",
    "        dash = 'dot')\n",
    ")\n",
    "trace6 = go.Scatter(\n",
    "    x = final_df.Year[final_df.Player == 'Jason Kidd'],\n",
    "    y = final_df.apg[final_df.Player == 'Jason Kidd'],\n",
    "    name = 'Jason Kidd',\n",
    "    connectgaps=True,\n",
    "    line = dict(\n",
    "        color = ('rgb(222, 96, 167)'),\n",
    "        width = 4,\n",
    "        dash = 'dot')\n",
    ")\n",
    "trace7 = go.Scatter(\n",
    "    x = final_df.Year[final_df.Player == 'Rajon Rondo'],\n",
    "    y = final_df.apg[final_df.Player == 'Rajon Rondo'],\n",
    "    name = 'Rajon Rondo',\n",
    "    connectgaps=True,\n",
    "    line = dict(\n",
    "        color = ('rgb(212, 96, 167)'),\n",
    "        width = 4,\n",
    "        dash = 'dot')\n",
    ")\n",
    "data = [trace0, trace1, trace2, trace3, trace4, trace5, trace6, trace7]\n",
    "\n",
    "# Edit the layout\n",
    "layout = dict(title = 'Assists per game for Top players',\n",
    "              xaxis = dict(title = 'Year'),\n",
    "              yaxis = dict(title = 'APG'),\n",
    "              )\n",
    "\n",
    "fig = dict(data=data, layout=layout)\n",
    "py.iplot(fig, filename='styled-line')"
   ]
  },
  {
   "cell_type": "markdown",
   "metadata": {
    "_uuid": "7e090ac3cb9fc95b26f06d23c93a6d0dbd63ed5f"
   },
   "source": [
    "**Earvin \"Magic\" Johnson Jr. (born August 14, 1959) is an American retired professional basketball player and current president of basketball operations of the Los Angeles Lakers of the National Basketball Association (NBA). He played point guard for the Lakers for 13 seasons. After winning championships in high school and college, Johnson was selected first overall in the 1979 NBA draft by the Lakers. He won a championship and an NBA Finals Most Valuable Player Award in his rookie season, and won four more championships with the Lakers during the 1980s. Johnson retired abruptly in 1991 after announcing that he had contracted HIV, but returned to play in the 1992 All-Star Game, winning the All-Star MVP Award. After protests from his fellow players, he retired again for four years, but returned in 1996, at age 36, to play 32 games for the Lakers before retiring for the third and final time.**\n",
    "\n",
    "**Johnson's career achievements include three NBA MVP Awards, nine NBA Finals appearances, twelve All-Star games, and ten All-NBA First and Second Team nominations. He led the league in regular-season assists four times, and is the NBA's all-time leader in average assists per game, at 11.2. Johnson was a member of the 1992 United States men's Olympic basketball team (\"The Dream Team\"), which won the Olympic gold medal in 1992. After leaving the NBA in 1992, Johnson formed the Magic Johnson All-Stars, a barnstorming team that travelled around the world playing exhibition games Johnson was honored as one of the 50 Greatest Players in NBA History in 1996.**"
   ]
  },
  {
   "cell_type": "code",
   "execution_count": null,
   "metadata": {
    "_kg_hide-input": true,
    "_uuid": "d2e070aa34c940570a896244b6e1948fe6b38bcc"
   },
   "outputs": [],
   "source": [
    "final_df['fgpg'] = final_df['FG']/final_df.G"
   ]
  },
  {
   "cell_type": "code",
   "execution_count": null,
   "metadata": {
    "_kg_hide-input": true,
    "_uuid": "56786e87d5fb76a7b90506802089aca10fa2d289"
   },
   "outputs": [],
   "source": [
    "fgpg = pd.DataFrame()\n",
    "fgpg['player'] = final_df.groupby('Player').mean()['fgpg'].index\n",
    "fgpg['FGPG'] = final_df.groupby('Player').mean()['fgpg'].values\n",
    "fgpg= fgpg.sort_values('FGPG', ascending = False).head(10)"
   ]
  },
  {
   "cell_type": "markdown",
   "metadata": {
    "_uuid": "545b6edb461804ca268993c27747d0fdc815ea20"
   },
   "source": [
    "# Field goal per game"
   ]
  },
  {
   "cell_type": "code",
   "execution_count": null,
   "metadata": {
    "_kg_hide-input": true,
    "_uuid": "d0da8b52469b1fc78ed36a37e7e8812e2d8bd177"
   },
   "outputs": [],
   "source": [
    "trace0 = go.Bar(\n",
    "    x=fgpg['player'].head(10),\n",
    "    y=fgpg['FGPG'].head(10),\n",
    "    marker=dict(\n",
    "        color= random_colors(10),\n",
    "       \n",
    "        \n",
    "    ),\n",
    "    opacity=0.6\n",
    ")\n",
    "\n",
    "data = [trace0]\n",
    "layout = go.Layout(\n",
    "    title='Top ten players with high field goal per game',\n",
    ")\n",
    "\n",
    "fig = go.Figure(data=data, layout=layout)\n",
    "py.iplot(fig, filename='text-hover-bar')"
   ]
  },
  {
   "cell_type": "code",
   "execution_count": null,
   "metadata": {
    "_kg_hide-input": true,
    "_uuid": "663dc208c33a7874b1ade387bdccefb3289a360f"
   },
   "outputs": [],
   "source": [
    "# Create and style traces\n",
    "trace0 = go.Scatter(\n",
    "    x = final_df.Year[final_df.Player == 'Wilt Chamberlain*'],\n",
    "    y = final_df.fgpg[final_df.Player == 'Wilt Chamberlain*'],\n",
    "    name = 'Wilt Chamberlain',\n",
    "    connectgaps=True,\n",
    "    line = dict(\n",
    "        color = ('rgb(205, 12, 24)'),\n",
    "        width = 4)\n",
    ")\n",
    "trace1 = go.Scatter(\n",
    "    x = final_df.Year[final_df.Player == 'Michael Jordan*'],\n",
    "    y = final_df.fgpg[final_df.Player == 'Michael Jordan*'],\n",
    "    name = 'Michael Jordan',\n",
    "    connectgaps=True,\n",
    "    line = dict(\n",
    "        color = ('rgb(22, 96, 167)'),\n",
    "        width = 4,)\n",
    ")\n",
    "trace2 = go.Scatter(\n",
    "    x = final_df.Year[final_df.Player == 'George Gervin*'],\n",
    "    y = final_df.fgpg[final_df.Player == 'George Gervin*'],\n",
    "    name = 'George Gervin',\n",
    "    connectgaps=True,\n",
    "    line = dict(\n",
    "        color = ('rgb(205, 12, 24)'),\n",
    "        width = 4,\n",
    "        dash = 'dash') # dash options include 'dash', 'dot', and 'dashdot'\n",
    ")\n",
    "trace3 = go.Scatter(\n",
    "    x = final_df.Year[final_df.Player == 'Kareem Abdul-Jabbar*'],\n",
    "    y = final_df.fgpg[final_df.Player == 'Kareem Abdul-Jabbar*'],\n",
    "    name = 'Kareem Abdul-Jabbar',\n",
    "    connectgaps=True,\n",
    "    line = dict(\n",
    "        color = ('rgb(22, 96, 167)'),\n",
    "        width = 4,\n",
    "        dash = 'dash')\n",
    ")\n",
    "trace4 = go.Scatter(\n",
    "    x = final_df.Year[final_df.Player == 'LeBron James'],\n",
    "    y = final_df.fgpg[final_df.Player == 'LeBron James'],\n",
    "    name = 'LeBron James ',\n",
    "    connectgaps=True,\n",
    "    line = dict(\n",
    "        color = ('rgb(205, 12, 24)'),\n",
    "        width = 4,\n",
    "        dash = 'dot')\n",
    ")\n",
    "trace5 = go.Scatter(\n",
    "    x = final_df.Year[final_df.Player == 'Jerry West*'],\n",
    "    y = final_df.fgpg[final_df.Player == 'Jerry West*'],\n",
    "    name = 'Jerry West',\n",
    "    connectgaps=True,\n",
    "    line = dict(\n",
    "        color = ('rgb(22, 96, 167)'),\n",
    "        width = 4,\n",
    "        dash = 'dot')\n",
    ")\n",
    "trace6 = go.Scatter(\n",
    "    x = final_df.Year[final_df.Player == 'Larry Bird*'],\n",
    "    y = final_df.fgpg[final_df.Player == 'Larry Bird*'],\n",
    "    name = 'Larry Bird',\n",
    "    connectgaps=True,\n",
    "    line = dict(\n",
    "        color = ('rgb(222, 96, 167)'),\n",
    "        width = 4,\n",
    "        dash = 'dot')\n",
    ")\n",
    "trace7 = go.Scatter(\n",
    "    x = final_df.Year[final_df.Player == 'Bob Pettit*'],\n",
    "    y = final_df.fgpg[final_df.Player == 'Bob Pettit*'],\n",
    "    name = 'Bob Pettit',\n",
    "    connectgaps=True,\n",
    "    line = dict(\n",
    "        color = ('rgb(212, 96, 167)'),\n",
    "        width = 4,\n",
    "        dash = 'dot')\n",
    ")\n",
    "data = [trace0, trace1, trace2, trace3, trace4, trace5, trace6, trace7]\n",
    "\n",
    "# Edit the layout\n",
    "layout = dict(title = 'Field Goal average per game for Top players',\n",
    "              xaxis = dict(title = 'Year'),\n",
    "              yaxis = dict(title = 'FGPG'),\n",
    "              )\n",
    "\n",
    "fig = dict(data=data, layout=layout)\n",
    "py.iplot(fig, filename='styled-line')"
   ]
  },
  {
   "cell_type": "markdown",
   "metadata": {
    "_uuid": "1ceb03fa79461e425b81d9acaebede8b2e1e55b0"
   },
   "source": [
    "**Chamberlain holds numerous NBA records in scoring, rebounding, and durability categories. He is the only player to score 100 points in a single NBA game or average more than 40 and 50 points in a season. He won seven scoring, eleven rebounding, nine field goal percentage titles and led the league in assists once. Chamberlain is the only player in NBA history to average at least 30 points and 20 rebounds per game in a season, which he accomplished seven times. He is also the only player to average at least 30 points and 20 rebounds per game over the entire course of his NBA career. Although he suffered a long string of professional losses, Chamberlain had a successful career, winning two NBA championships, earning four regular-season Most Valuable Player awards, the Rookie of the Year award, one NBA Finals MVP award, and was selected to 13 All-Star Games and ten All-NBA First and Second teams. He was subsequently enshrined in the Naismith Memorial Basketball Hall of Fame in 1978, elected into the NBA's 35th Anniversary Team of 1980, and chosen as one of the 50 Greatest Players in NBA History of 1996.**"
   ]
  },
  {
   "cell_type": "code",
   "execution_count": null,
   "metadata": {
    "_kg_hide-input": true,
    "_uuid": "df590c4cb7ad52109590e31828da6a0af138cbd7"
   },
   "outputs": [],
   "source": [
    "final_df['rpg'] = final_df.TRB/final_df.G"
   ]
  },
  {
   "cell_type": "code",
   "execution_count": null,
   "metadata": {
    "_kg_hide-input": true,
    "_uuid": "d242d05563030523db20f855f1216510e9c3e318"
   },
   "outputs": [],
   "source": [
    "rpg = pd.DataFrame()\n",
    "rpg['player'] = final_df.groupby('Player').mean()['rpg'].index\n",
    "rpg['RPG'] = final_df.groupby('Player').mean()['rpg'].values\n",
    "rpg= rpg.sort_values('RPG', ascending = False).head(10)"
   ]
  },
  {
   "cell_type": "markdown",
   "metadata": {
    "_uuid": "6230c14dfd8c61b6a7b8be4bce1e4d71f4bfd528"
   },
   "source": [
    "# Rebounds per game"
   ]
  },
  {
   "cell_type": "code",
   "execution_count": null,
   "metadata": {
    "_kg_hide-input": true,
    "_uuid": "391987c82ea14dcccbb1b6e7e71ba69e1b4ba800"
   },
   "outputs": [],
   "source": [
    "trace0 = go.Bar(\n",
    "    x=rpg['player'].head(10),\n",
    "    y=rpg['RPG'].head(10),\n",
    "    marker=dict(\n",
    "        color= random_colors(10),\n",
    "       \n",
    "        \n",
    "    ),\n",
    "    opacity=0.6\n",
    ")\n",
    "\n",
    "data = [trace0]\n",
    "layout = go.Layout(\n",
    "    title='Top ten players with high rebounds per game',\n",
    ")\n",
    "\n",
    "fig = go.Figure(data=data, layout=layout)\n",
    "py.iplot(fig, filename='text-hover-bar')"
   ]
  },
  {
   "cell_type": "code",
   "execution_count": null,
   "metadata": {
    "_kg_hide-input": true,
    "_uuid": "65a397e96e95cdb1e3a03e4d08f202759490a5b9"
   },
   "outputs": [],
   "source": [
    "# Create and style traces\n",
    "trace0 = go.Scatter(\n",
    "    x = final_df.Year[final_df.Player == 'Wilt Chamberlain*'],\n",
    "    y = final_df.rpg[final_df.Player == 'Wilt Chamberlain*'],\n",
    "    name = 'Wilt Chamberlain',\n",
    "    connectgaps=True,\n",
    "    line = dict(\n",
    "        color = ('rgb(205, 12, 24)'),\n",
    "        width = 4)\n",
    ")\n",
    "trace1 = go.Scatter(\n",
    "    x = final_df.Year[final_df.Player == 'Bill Russell*'],\n",
    "    y = final_df.rpg[final_df.Player == 'Bill Russell*'],\n",
    "    name = 'Bill Russell',\n",
    "    connectgaps=True,\n",
    "    line = dict(\n",
    "        color = ('rgb(22, 96, 167)'),\n",
    "        width = 4,)\n",
    ")\n",
    "trace2 = go.Scatter(\n",
    "    x = final_df.Year[final_df.Player == 'Maurice Stokes*'],\n",
    "    y = final_df.rpg[final_df.Player == 'Maurice Stokes*'],\n",
    "    name = 'Maurice Stokes',\n",
    "    connectgaps=True,\n",
    "    line = dict(\n",
    "        color = ('rgb(205, 12, 24)'),\n",
    "        width = 4,\n",
    "        dash = 'dash') # dash options include 'dash', 'dot', and 'dashdot'\n",
    ")\n",
    "trace3 = go.Scatter(\n",
    "    x = final_df.Year[final_df.Player == 'Bob Pettit*'],\n",
    "    y = final_df.rpg[final_df.Player == 'Bob Pettit*'],\n",
    "    name = 'Bob Pettit',\n",
    "    connectgaps=True,\n",
    "    line = dict(\n",
    "        color = ('rgb(22, 96, 167)'),\n",
    "        width = 4,\n",
    "        dash = 'dash')\n",
    ")\n",
    "trace4 = go.Scatter(\n",
    "    x = final_df.Year[final_df.Player == 'Jerry Lucas*'],\n",
    "    y = final_df.rpg[final_df.Player == 'Jerry Lucas*'],\n",
    "    name = 'Jerry Lucas ',\n",
    "    connectgaps=True,\n",
    "    line = dict(\n",
    "        color = ('rgb(205, 12, 24)'),\n",
    "        width = 4,\n",
    "        dash = 'dot')\n",
    ")\n",
    "trace5 = go.Scatter(\n",
    "    x = final_df.Year[final_df.Player == 'Nate Thurmond*'],\n",
    "    y = final_df.rpg[final_df.Player == 'Nate Thurmond*'],\n",
    "    name = 'Nate Thurmond',\n",
    "    connectgaps=True,\n",
    "    line = dict(\n",
    "        color = ('rgb(22, 96, 167)'),\n",
    "        width = 4,\n",
    "        dash = 'dot')\n",
    ")\n",
    "trace6 = go.Scatter(\n",
    "    x = final_df.Year[final_df.Player == 'Dennis Rodman*'],\n",
    "    y = final_df.rpg[final_df.Player == 'Dennis Rodman*'],\n",
    "    name = 'Dennis Rodman',\n",
    "    connectgaps=True,\n",
    "    line = dict(\n",
    "        color = ('rgb(222, 96, 167)'),\n",
    "        width = 4,\n",
    "        dash = 'dot')\n",
    ")\n",
    "trace7 = go.Scatter(\n",
    "    x = final_df.Year[final_df.Player == 'Dave Cowens*'],\n",
    "    y = final_df.rpg[final_df.Player == 'Dave Cowens*'],\n",
    "    name = 'Dave Cowens*',\n",
    "    connectgaps=True,\n",
    "    line = dict(\n",
    "        color = ('rgb(212, 96, 167)'),\n",
    "        width = 4,\n",
    "        dash = 'dot')\n",
    ")\n",
    "data = [trace0, trace1, trace2, trace3, trace4, trace5, trace6, trace7]\n",
    "\n",
    "# Edit the layout\n",
    "layout = dict(title = 'Rebounds per game for Top players',\n",
    "              xaxis = dict(title = 'Year'),\n",
    "              yaxis = dict(title = 'FGPG'),\n",
    "              )\n",
    "\n",
    "fig = dict(data=data, layout=layout)\n",
    "py.iplot(fig, filename='styled-line')"
   ]
  },
  {
   "cell_type": "markdown",
   "metadata": {
    "_uuid": "aec862a37a4b14fb67841efa013a56b0be0ccb7b"
   },
   "source": [
    "**From a historical NBA perspective, the rivalry between Chamberlain and his perennial nemesis Bill Russell is cited as the greatest on-court rivalry of all time. There were three NBA Finals matchups in the rivalry between Larry Bird and Magic Johnson, but they played different positions and did not guard each other. Russell's Celtics won seven of eight playoff series against Chamberlain's Warriors, 76ers, and Lakers teams, and went 57–37 against them in the regular season and 29–20 in the playoffs. Russell's teams won all four seventh games against Chamberlain's—the combined margin was nine points. Chamberlain outscored Russell 30 to 14.2 per game and outrebounded him 28.2 to 22.9 in the regular season, and also in the playoffs, he outscored him 25.7 to 14.9 and outrebounded him 28 to 24.7. The comparison between the two is often simplified to a great player (Chamberlain) versus a player who makes his team great (Russell), an individualist against a team player. In 1961–62 when Chamberlain averaged 50.4 points per game, he noted that Boston did not rely on Russell's scoring, and he could concentrate on defense and rebounding. He wished people would understand that their roles were different. Chamberlain said, \"I've got to hit forty points or so, or this team is in trouble. I must score—understand? After that I play defense and get the ball off the boards. I try to do them all, best I can, but scoring comes first.\" Russell won 11 NBA titles in his career while Chamberlain won two. Chamberlain was named All-NBA first team seven times to Russell's three, but Russell was named league MVP—then selected by players and not the press—five times against Chamberlain's four. Russell and Chamberlain were friends in private life. Russell never considered Chamberlain his rival and disliked the term, instead pointing out that they rarely talked about basketball when they were alone. When Chamberlain died in 1999, Chamberlain's nephew stated that Russell was the second person he was ordered to break the news to.The two did not speak for two decades after Russell criticized Chamberlain after Game 7 of the 1969 Finals. Russell apologized privately to him and later publicly.**"
   ]
  },
  {
   "cell_type": "code",
   "execution_count": null,
   "metadata": {
    "_kg_hide-input": true,
    "_uuid": "9cc3b92724e690bfed049d132062dee8e101e3e0"
   },
   "outputs": [],
   "source": [
    "final_df['tpg'] = final_df.TOV/final_df.G"
   ]
  },
  {
   "cell_type": "code",
   "execution_count": null,
   "metadata": {
    "_kg_hide-input": true,
    "_uuid": "860c964015d63bcb1c4e533e299c15e38f3bd4fd"
   },
   "outputs": [],
   "source": [
    "tpg = pd.DataFrame()\n",
    "tpg['player'] = final_df.groupby('Player').mean()['tpg'].index\n",
    "tpg['TPG'] = final_df.groupby('Player').mean()['tpg'].values\n",
    "tpg= tpg.sort_values('TPG', ascending = False).head(10)"
   ]
  },
  {
   "cell_type": "markdown",
   "metadata": {
    "_uuid": "ff5b7a48bf6325ebf97c715a1f461e5490b83445"
   },
   "source": [
    "# Turnover per game"
   ]
  },
  {
   "cell_type": "code",
   "execution_count": null,
   "metadata": {
    "_kg_hide-input": true,
    "_uuid": "0b36d07f0cbdff419877547b8edcd0cf9a4cdd86"
   },
   "outputs": [],
   "source": [
    "trace0 = go.Bar(\n",
    "    x=tpg['player'].head(10),\n",
    "    y=tpg['TPG'].head(10),\n",
    "    marker=dict(\n",
    "        color= random_colors(10),\n",
    "       \n",
    "        \n",
    "    ),\n",
    "    opacity=0.6\n",
    ")\n",
    "\n",
    "data = [trace0]\n",
    "layout = go.Layout(\n",
    "    title='Top ten players with high turnover per game',\n",
    ")\n",
    "\n",
    "fig = go.Figure(data=data, layout=layout)\n",
    "py.iplot(fig, filename='text-hover-bar')"
   ]
  },
  {
   "cell_type": "code",
   "execution_count": null,
   "metadata": {
    "_kg_hide-input": true,
    "_uuid": "7c18db0f4fe0aa02b4e10306ff34a95ec7d43803"
   },
   "outputs": [],
   "source": [
    "# Create and style traces\n",
    "trace0 = go.Scatter(\n",
    "    x = final_df.Year[final_df.Player == 'Russell Westbrook'],\n",
    "    y = final_df.tpg[final_df.Player == 'Russell Westbrook'],\n",
    "    name = 'Russell Westbrook',\n",
    "    connectgaps=True,\n",
    "    line = dict(\n",
    "        color = ('rgb(205, 12, 24)'),\n",
    "        width = 4)\n",
    ")\n",
    "trace1 = go.Scatter(\n",
    "    x = final_df.Year[final_df.Player == 'Magic Johnson*'],\n",
    "    y = final_df.tpg[final_df.Player == 'Magic Johnson*'],\n",
    "    name = 'Magic Johnson',\n",
    "    connectgaps=True,\n",
    "    line = dict(\n",
    "        color = ('rgb(22, 96, 167)'),\n",
    "        width = 4,)\n",
    ")\n",
    "trace2 = go.Scatter(\n",
    "    x = final_df.Year[final_df.Player == 'John Wall'],\n",
    "    y = final_df.tpg[final_df.Player == 'John Wall'],\n",
    "    name = 'John Wall',\n",
    "    connectgaps=True,\n",
    "    line = dict(\n",
    "        color = ('rgb(205, 12, 24)'),\n",
    "        width = 4,\n",
    "        dash = 'dash') # dash options include 'dash', 'dot', and 'dashdot'\n",
    ")\n",
    "trace3 = go.Scatter(\n",
    "    x = final_df.Year[final_df.Player == 'Joel Embiid'],\n",
    "    y = final_df.tpg[final_df.Player == 'Joel Embiid'],\n",
    "    name = 'Joel Embiid',\n",
    "    connectgaps=True,\n",
    "    line = dict(\n",
    "        color = ('rgb(22, 96, 167)'),\n",
    "        width = 4,\n",
    "        dash = 'dash')\n",
    ")\n",
    "trace4 = go.Scatter(\n",
    "    x = final_df.Year[final_df.Player == 'Isiah Thomas*'],\n",
    "    y = final_df.tpg[final_df.Player == 'Isiah Thomas*'],\n",
    "    name = 'Isiah Thomas ',\n",
    "    connectgaps=True,\n",
    "    line = dict(\n",
    "        color = ('rgb(205, 12, 24)'),\n",
    "        width = 4,\n",
    "        dash = 'dot')\n",
    ")\n",
    "trace5 = go.Scatter(\n",
    "    x = final_df.Year[final_df.Player == 'George McGinnis'],\n",
    "    y = final_df.tpg[final_df.Player == 'George McGinnis'],\n",
    "    name = 'George McGinnis',\n",
    "    connectgaps=True,\n",
    "    line = dict(\n",
    "        color = ('rgb(22, 96, 167)'),\n",
    "        width = 4,\n",
    "        dash = 'dot')\n",
    ")\n",
    "trace6 = go.Scatter(\n",
    "    x = final_df.Year[final_df.Player == 'DeMarcus Cousins'],\n",
    "    y = final_df.tpg[final_df.Player == 'DeMarcus Cousins'],\n",
    "    name = 'DeMarcus Cousins',\n",
    "    connectgaps=True,\n",
    "    line = dict(\n",
    "        color = ('rgb(222, 96, 167)'),\n",
    "        width = 4,\n",
    "        dash = 'dot')\n",
    ")\n",
    "trace7 = go.Scatter(\n",
    "    x = final_df.Year[final_df.Player == 'LeBron James'],\n",
    "    y = final_df.tpg[final_df.Player == 'LeBron James'],\n",
    "    name = 'LeBron James',\n",
    "    connectgaps=True,\n",
    "    line = dict(\n",
    "        color = ('rgb(212, 96, 167)'),\n",
    "        width = 4,\n",
    "        dash = 'dot')\n",
    ")\n",
    "data = [trace0, trace1, trace2, trace3, trace4, trace5, trace6, trace7]\n",
    "\n",
    "# Edit the layout\n",
    "layout = dict(title = 'Turnover per game for Top players',\n",
    "              xaxis = dict(title = 'Year'),\n",
    "              yaxis = dict(title = 'FGPG'),\n",
    "              )\n",
    "\n",
    "fig = dict(data=data, layout=layout)\n",
    "py.iplot(fig, filename='styled-line')"
   ]
  },
  {
   "cell_type": "markdown",
   "metadata": {
    "_uuid": "2375129082886d6982abf479c5c662f6d9c3dabc"
   },
   "source": [
    "**Westbrook III(born November 12, 1988) is an American professional basketball player for the Oklahoma City Thunder of the National Basketball Association (NBA). He is a seven-time NBA All-Star, and a two-time NBA All-Star Game Most Valuable Player, winning consecutive awards in 2015 and 2016. He is also a seven-time All-NBA Team member and led the league in scoring in 2014–15 and 2016–17. In 2017, Westbrook became one of two players in NBA history to average a triple-double for a season, along with Oscar Robertson in 1962. He also set a record for the most triple-doubles in a season, with 42. He was subsequently named the 2016–17 NBA Most Valuable Player. This feat was repeated the following season when he again averaged a triple-double across 80 games. In 2017–18, he also led the league in assists for the first time.**\n",
    "\n",
    "**Westbrook played college basketball for the UCLA Bruins and earned third-team all-conference honors in the Pac-10. He was selected with the fourth overall pick in the 2008 NBA draft by the Seattle SuperSonics, who then relocated to Oklahoma City six days later. Westbrook has represented the United States national team twice, winning gold medals in the 2010 FIBA World Championship and the 2012 Olympics.**"
   ]
  },
  {
   "cell_type": "code",
   "execution_count": null,
   "metadata": {
    "_kg_hide-input": true,
    "_uuid": "a0c56c375880af1a4037ce8659be634b9c0880ae"
   },
   "outputs": [],
   "source": [
    "final_df['twoppg'] = final_df['2P']/final_df.G"
   ]
  },
  {
   "cell_type": "code",
   "execution_count": null,
   "metadata": {
    "_kg_hide-input": true,
    "_uuid": "3d9b79d173b6501f16dfc12a2c44b596960516c8"
   },
   "outputs": [],
   "source": [
    "twoppg = pd.DataFrame()\n",
    "twoppg['player'] = final_df.groupby('Player').mean()['twoppg'].index\n",
    "twoppg['twoppg'] = final_df.groupby('Player').mean()['twoppg'].values\n",
    "twoppg= twoppg.sort_values('twoppg', ascending = False).head(10)"
   ]
  },
  {
   "cell_type": "markdown",
   "metadata": {
    "_uuid": "975bf47dd43a280d329cea51b24be153d64e75e6"
   },
   "source": [
    "# 2 points per game"
   ]
  },
  {
   "cell_type": "code",
   "execution_count": null,
   "metadata": {
    "_kg_hide-input": true,
    "_uuid": "b2c4c2b125a269b7d8dea61df5c2fb73725b1034"
   },
   "outputs": [],
   "source": [
    "trace0 = go.Bar(\n",
    "    x=twoppg['player'].head(10),\n",
    "    y=twoppg['twoppg'].head(10),\n",
    "    marker=dict(\n",
    "        color= random_colors(10),\n",
    "       \n",
    "        \n",
    "    ),\n",
    "    opacity=0.6\n",
    ")\n",
    "\n",
    "data = [trace0]\n",
    "layout = go.Layout(\n",
    "    title='Top ten players with high 2 points average per game',\n",
    ")\n",
    "\n",
    "fig = go.Figure(data=data, layout=layout)\n",
    "py.iplot(fig, filename='text-hover-bar')"
   ]
  },
  {
   "cell_type": "code",
   "execution_count": null,
   "metadata": {
    "_kg_hide-input": true,
    "_uuid": "bc07a21460eee963afc7f2acfa1510f3a5346678"
   },
   "outputs": [],
   "source": [
    "# Create and style traces\n",
    "trace0 = go.Scatter(\n",
    "    x = final_df.Year[final_df.Player == 'Wilt Chamberlain*'],\n",
    "    y = final_df.twoppg[final_df.Player == 'Wilt Chamberlain*'],\n",
    "    name = 'Wilt Chamberlain',\n",
    "    connectgaps=True,\n",
    "    line = dict(\n",
    "        color = ('rgb(205, 12, 24)'),\n",
    "        width = 4)\n",
    ")\n",
    "trace1 = go.Scatter(\n",
    "    x = final_df.Year[final_df.Player == 'Kareem Abdul-Jabbar*'],\n",
    "    y = final_df.twoppg[final_df.Player == 'Kareem Abdul-Jabbar*'],\n",
    "    name = 'Kareem Abdul-Jabbar*',\n",
    "    connectgaps=True,\n",
    "    line = dict(\n",
    "        color = ('rgb(22, 96, 167)'),\n",
    "        width = 4,)\n",
    ")\n",
    "trace2 = go.Scatter(\n",
    "    x = final_df.Year[final_df.Player == 'Michael Jordan*'],\n",
    "    y = final_df.twoppg[final_df.Player == 'Michael Jordan*'],\n",
    "    name = 'Michael Jordan*',\n",
    "    connectgaps=True,\n",
    "    line = dict(\n",
    "        color = ('rgb(205, 12, 24)'),\n",
    "        width = 4,\n",
    "        dash = 'dash') # dash options include 'dash', 'dot', and 'dashdot'\n",
    ")\n",
    "trace3 = go.Scatter(\n",
    "    x = final_df.Year[final_df.Player == 'George Gervin*'],\n",
    "    y = final_df.twoppg[final_df.Player == 'George Gervin*'],\n",
    "    name = 'George Gervin',\n",
    "    connectgaps=True,\n",
    "    line = dict(\n",
    "        color = ('rgb(22, 96, 167)'),\n",
    "        width = 4,\n",
    "        dash = 'dash')\n",
    ")\n",
    "trace4 = go.Scatter(\n",
    "    x = final_df.Year[final_df.Player == 'Jerry West*'],\n",
    "    y = final_df.twoppg[final_df.Player == 'Jerry West*'],\n",
    "    name = 'Jerry West ',\n",
    "    connectgaps=True,\n",
    "    line = dict(\n",
    "        color = ('rgb(205, 12, 24)'),\n",
    "        width = 4,\n",
    "        dash = 'dot')\n",
    ")\n",
    "trace5 = go.Scatter(\n",
    "    x = final_df.Year[final_df.Player == 'Elgin Baylor*'],\n",
    "    y = final_df.twoppg[final_df.Player == 'Elgin Baylor*'],\n",
    "    name = 'Elgin Baylor',\n",
    "    connectgaps=True,\n",
    "    line = dict(\n",
    "        color = ('rgb(22, 96, 167)'),\n",
    "        width = 4,\n",
    "        dash = 'dot')\n",
    ")\n",
    "trace6 = go.Scatter(\n",
    "    x = final_df.Year[final_df.Player == 'Bob Pettit*'],\n",
    "    y = final_df.twoppg[final_df.Player == 'Bob Pettit*'],\n",
    "    name = 'Bob Pettit',\n",
    "    connectgaps=True,\n",
    "    line = dict(\n",
    "        color = ('rgb(222, 96, 167)'),\n",
    "        width = 4,\n",
    "        dash = 'dot')\n",
    ")\n",
    "trace7 = go.Scatter(\n",
    "    x = final_df.Year[final_df.Player == 'Oscar Robertson*'],\n",
    "    y = final_df.twoppg[final_df.Player == 'Oscar Robertson*'],\n",
    "    name = 'Oscar Robertson',\n",
    "    connectgaps=True,\n",
    "    line = dict(\n",
    "        color = ('rgb(212, 96, 167)'),\n",
    "        width = 4,\n",
    "        dash = 'dot')\n",
    ")\n",
    "data = [trace0, trace1, trace2, trace3, trace4, trace5, trace6, trace7]\n",
    "\n",
    "# Edit the layout\n",
    "layout = dict(title = '2 points average per game for Top players',\n",
    "              xaxis = dict(title = 'Year'),\n",
    "              yaxis = dict(title = 'FGPG'),\n",
    "              )\n",
    "\n",
    "fig = dict(data=data, layout=layout)\n",
    "py.iplot(fig, filename='styled-line')"
   ]
  },
  {
   "cell_type": "markdown",
   "metadata": {
    "_uuid": "594bc522a47b364e370273af2f43def213b1eb15"
   },
   "source": [
    "**Chamberlain was known by several nicknames during his basketball playing career. He hated the ones that called attention to his height such as \"Goliath\" and \"Wilt the Stilt\", which was coined during his high school days by a Philadelphia sportswriter. He preferred \"The Big Dipper\", which was inspired by his friends who saw him dip his head as he walked through doorways. After his basketball career ended, Chamberlain played volleyball in the short-lived International Volleyball Association, was president of that organization, and is enshrined in the IVA Hall of Fame for his contributions. He was a successful businessman, authored several books, and appeared in the movie Conan the Destroyer. **"
   ]
  },
  {
   "cell_type": "markdown",
   "metadata": {
    "_uuid": "a08ecb1eb703edebad235f2089ddf73b58436b45"
   },
   "source": [
    "# 3 points per game"
   ]
  },
  {
   "cell_type": "code",
   "execution_count": null,
   "metadata": {
    "_kg_hide-input": true,
    "_uuid": "5ac8b23941b6b01f696f7445756b0a51a10348b7"
   },
   "outputs": [],
   "source": [
    "final_df['threeppg'] = final_df['3P']/final_df.G"
   ]
  },
  {
   "cell_type": "code",
   "execution_count": null,
   "metadata": {
    "_kg_hide-input": true,
    "_uuid": "02115cd869133c0beb4c6cd275dd4fe2f80a8b47"
   },
   "outputs": [],
   "source": [
    "threeppg = pd.DataFrame()\n",
    "threeppg['player'] = final_df.groupby('Player').mean()['threeppg'].index\n",
    "threeppg['threeppg'] = final_df.groupby('Player').mean()['threeppg'].values\n",
    "threeppg= threeppg.sort_values('threeppg', ascending = False).head(10)"
   ]
  },
  {
   "cell_type": "code",
   "execution_count": null,
   "metadata": {
    "_kg_hide-input": true,
    "_uuid": "14036f013c8df510dd32541435d9c9a5c36754a0"
   },
   "outputs": [],
   "source": [
    "trace0 = go.Bar(\n",
    "    x=threeppg['player'].head(10),\n",
    "    y=threeppg['threeppg'].head(10),\n",
    "    marker=dict(\n",
    "        color= random_colors(10),\n",
    "       \n",
    "        \n",
    "    ),\n",
    "    opacity=0.6\n",
    ")\n",
    "\n",
    "data = [trace0]\n",
    "layout = go.Layout(\n",
    "    title='Top ten players with high 3 points average per game',\n",
    ")\n",
    "\n",
    "fig = go.Figure(data=data, layout=layout)\n",
    "py.iplot(fig, filename='text-hover-bar')"
   ]
  },
  {
   "cell_type": "code",
   "execution_count": null,
   "metadata": {
    "_kg_hide-input": true,
    "_uuid": "df225403fa184e2dd108acd70aa24cb53fc7f824"
   },
   "outputs": [],
   "source": [
    "# Create and style traces\n",
    "trace0 = go.Scatter(\n",
    "    x = final_df.Year[final_df.Player == 'Stephen Curry'],\n",
    "    y = final_df.threeppg[final_df.Player == 'Stephen Curry'],\n",
    "    name = 'Stephen Curry',\n",
    "    connectgaps=True,\n",
    "    line = dict(\n",
    "        color = ('rgb(205, 12, 24)'),\n",
    "        width = 4)\n",
    ")\n",
    "trace1 = go.Scatter(\n",
    "    x = final_df.Year[final_df.Player == 'Klay Thompson'],\n",
    "    y = final_df.threeppg[final_df.Player == 'Klay Thompson'],\n",
    "    name = 'Klay Thompson',\n",
    "    connectgaps=True,\n",
    "    line = dict(\n",
    "        color = ('rgb(22, 96, 167)'),\n",
    "        width = 4,)\n",
    ")\n",
    "trace2 = go.Scatter(\n",
    "    x = final_df.Year[final_df.Player == 'Damian Lillard'],\n",
    "    y = final_df.threeppg[final_df.Player == 'Damian Lillard'],\n",
    "    name = 'Damian Lillard',\n",
    "    connectgaps=True,\n",
    "    line = dict(\n",
    "        color = ('rgb(205, 12, 24)'),\n",
    "        width = 4,\n",
    "        dash = 'dash') # dash options include 'dash', 'dot', and 'dashdot'\n",
    ")\n",
    "trace3 = go.Scatter(\n",
    "    x = final_df.Year[final_df.Player == 'Ray Allen'],\n",
    "    y = final_df.threeppg[final_df.Player == 'Ray Allen'],\n",
    "    name = 'Ray Allen',\n",
    "    connectgaps=True,\n",
    "    line = dict(\n",
    "        color = ('rgb(22, 96, 167)'),\n",
    "        width = 4,\n",
    "        dash = 'dash')\n",
    ")\n",
    "trace4 = go.Scatter(\n",
    "    x = final_df.Year[final_df.Player == 'James Harden'],\n",
    "    y = final_df.threeppg[final_df.Player == 'James Harden'],\n",
    "    name = 'James Harden ',\n",
    "    connectgaps=True,\n",
    "    line = dict(\n",
    "        color = ('rgb(205, 12, 24)'),\n",
    "        width = 4,\n",
    "        dash = 'dot')\n",
    ")\n",
    "trace5 = go.Scatter(\n",
    "    x = final_df.Year[final_df.Player == 'Ryan Anderson'],\n",
    "    y = final_df.threeppg[final_df.Player == 'Ryan Anderson'],\n",
    "    name = 'Ryan Anderson',\n",
    "    connectgaps=True,\n",
    "    line = dict(\n",
    "        color = ('rgb(22, 96, 167)'),\n",
    "        width = 4,\n",
    "        dash = 'dot')\n",
    ")\n",
    "trace6 = go.Scatter(\n",
    "    x = final_df.Year[final_df.Player == 'Wesley Matthews'],\n",
    "    y = final_df.threeppg[final_df.Player == 'Wesley Matthews'],\n",
    "    name = 'Wesley Matthews',\n",
    "    connectgaps=True,\n",
    "    line = dict(\n",
    "        color = ('rgb(222, 96, 167)'),\n",
    "        width = 4,\n",
    "        dash = 'dot')\n",
    ")\n",
    "trace7 = go.Scatter(\n",
    "    x = final_df.Year[final_df.Player == 'J.R. Smith'],\n",
    "    y = final_df.threeppg[final_df.Player == 'J.R. Smith'],\n",
    "    name = 'J.R. Smith',\n",
    "    connectgaps=True,\n",
    "    line = dict(\n",
    "        color = ('rgb(212, 96, 167)'),\n",
    "        width = 4,\n",
    "        dash = 'dot')\n",
    ")\n",
    "data = [trace0, trace1, trace2, trace3, trace4, trace5, trace6, trace7]\n",
    "\n",
    "# Edit the layout\n",
    "layout = dict(title = '3 points average per game for Top players',\n",
    "              xaxis = dict(title = 'Year'),\n",
    "              yaxis = dict(title = 'FGPG'),\n",
    "              )\n",
    "\n",
    "fig = dict(data=data, layout=layout)\n",
    "py.iplot(fig, filename='styled-line')"
   ]
  },
  {
   "cell_type": "markdown",
   "metadata": {
    "_uuid": "ff356b548c04562d86c385d13765e4aa3c2dccfb"
   },
   "source": [
    ". **A six-time NBA All-Star, he has been named the NBA Most Valuable Player (MVP) twice and won three NBA championships with the Warriors. Many players and analysts have called him the greatest shooter in NBA history. He is credited with revolutionizing the game of basketball by inspiring teams to regularly employ the three-point shot as part of their winning strategy.**\n",
    "\n",
    "**In 2014–15, Curry won his first MVP award and led the Warriors to their first championship since 1975. The following season, he became the first player in NBA history to be elected MVP by a unanimous vote and to lead the league in scoring while shooting above 50–40–90. That same year, the Warriors broke the record for the most wins in an NBA season en route to reaching the 2016 NBA Finals, which they lost to the Cleveland Cavaliers. Curry helped the Warriors return to the NBA Finals in 2017 and 2018, where they won back-to-back titles.**\n",
    "\n",
    "**During the 2012–13 season, Curry set the NBA record for three-pointers made in a regular season with 272. He surpassed that record in 2015 with 286, and again in 2016 with 402. Curry is currently third in all-time made three-pointers in NBA history. The 2012–13 season saw Curry and teammate Klay Thompson earn the nickname of the Splash Brothers, with the pair going on to set the NBA record for combined three-pointers in a season with 484 in 2013–14, a record they broke the following season (525) and again in the 2015–16 season (678).**"
   ]
  },
  {
   "cell_type": "markdown",
   "metadata": {
    "_uuid": "1c111741252660295a0d33320f1ec521a51172a5"
   },
   "source": [
    "# Dribbles per game"
   ]
  },
  {
   "cell_type": "code",
   "execution_count": null,
   "metadata": {
    "_kg_hide-input": true,
    "_uuid": "6a7d974ec7fab58d5bc1d072cf5cfc7300d3e280"
   },
   "outputs": [],
   "source": [
    "final_df['dpg'] = final_df['DRB']/final_df.G"
   ]
  },
  {
   "cell_type": "code",
   "execution_count": null,
   "metadata": {
    "_kg_hide-input": true,
    "_uuid": "9a46c5cbf9fb4157b72fd06add929d8d63cbf6b1"
   },
   "outputs": [],
   "source": [
    "dpg = pd.DataFrame()\n",
    "dpg['player'] = final_df.groupby('Player').mean()['dpg'].index\n",
    "dpg['dpg'] = final_df.groupby('Player').mean()['dpg'].values\n",
    "dpg= dpg.sort_values('dpg', ascending = False).head(10)"
   ]
  },
  {
   "cell_type": "code",
   "execution_count": null,
   "metadata": {
    "_kg_hide-input": true,
    "_uuid": "03dc6a75f8e15e60b05a90dd09fc6e3a993a7387"
   },
   "outputs": [],
   "source": [
    "trace0 = go.Bar(\n",
    "    x=dpg['player'].head(10),\n",
    "    y=dpg['dpg'].head(10),\n",
    "    marker=dict(\n",
    "        color= random_colors(10),\n",
    "       \n",
    "        \n",
    "    ),\n",
    "    opacity=0.6\n",
    ")\n",
    "\n",
    "data = [trace0]\n",
    "layout = go.Layout(\n",
    "    title='Top ten players with high dribbles per game',\n",
    ")\n",
    "\n",
    "fig = go.Figure(data=data, layout=layout)\n",
    "py.iplot(fig, filename='text-hover-bar')"
   ]
  },
  {
   "cell_type": "code",
   "execution_count": null,
   "metadata": {
    "_kg_hide-input": true,
    "_uuid": "79de05c491c73fa6007c797ab99309e168be9350"
   },
   "outputs": [],
   "source": [
    "# Create and style traces\n",
    "trace0 = go.Scatter(\n",
    "    x = final_df.Year[final_df.Player == 'Dave Cowens*'],\n",
    "    y = final_df.dpg[final_df.Player == 'Dave Cowens*'],\n",
    "    name = 'Dave Cowens',\n",
    "    connectgaps=True,\n",
    "    line = dict(\n",
    "        color = ('rgb(205, 12, 24)'),\n",
    "        width = 4)\n",
    ")\n",
    "trace1 = go.Scatter(\n",
    "    x = final_df.Year[final_df.Player == 'Dwight Howard'],\n",
    "    y = final_df.dpg[final_df.Player == 'Dwight Howard'],\n",
    "    name = 'Dwight Howard',\n",
    "    connectgaps=True,\n",
    "    line = dict(\n",
    "        color = ('rgb(22, 96, 167)'),\n",
    "        width = 4,)\n",
    ")\n",
    "trace2 = go.Scatter(\n",
    "    x = final_df.Year[final_df.Player == 'Happy Hairston'],\n",
    "    y = final_df.dpg[final_df.Player == 'Happy Hairston'],\n",
    "    name = 'Happy Hairston',\n",
    "    connectgaps=True,\n",
    "    line = dict(\n",
    "        color = ('rgb(205, 12, 24)'),\n",
    "        width = 4,\n",
    "        dash = 'dash') # dash options include 'dash', 'dot', and 'dashdot'\n",
    ")\n",
    "trace3 = go.Scatter(\n",
    "    x = final_df.Year[final_df.Player == 'Dave DeBusschere*'],\n",
    "    y = final_df.dpg[final_df.Player == 'Dave DeBusschere*'],\n",
    "    name = 'Dave DeBusschere*',\n",
    "    connectgaps=True,\n",
    "    line = dict(\n",
    "        color = ('rgb(22, 96, 167)'),\n",
    "        width = 4,\n",
    "        dash = 'dash')\n",
    ")\n",
    "trace4 = go.Scatter(\n",
    "    x = final_df.Year[final_df.Player == 'Dennis Rodman*'],\n",
    "    y = final_df.dpg[final_df.Player == 'Dennis Rodman*'],\n",
    "    name = 'Dennis Rodman',\n",
    "    connectgaps=True,\n",
    "    line = dict(\n",
    "        color = ('rgb(205, 12, 24)'),\n",
    "        width = 4,\n",
    "        dash = 'dot')\n",
    ")\n",
    "trace5 = go.Scatter(\n",
    "    x = final_df.Year[final_df.Player == 'Kevin Love'],\n",
    "    y = final_df.dpg[final_df.Player == 'Kevin Love'],\n",
    "    name = 'Kevin Love',\n",
    "    connectgaps=True,\n",
    "    line = dict(\n",
    "        color = ('rgb(22, 96, 167)'),\n",
    "        width = 4,\n",
    "        dash = 'dot')\n",
    ")\n",
    "trace6 = go.Scatter(\n",
    "    x = final_df.Year[final_df.Player == 'DeMarcus Cousins'],\n",
    "    y = final_df.dpg[final_df.Player == 'DeMarcus Cousins'],\n",
    "    name = 'DeMarcus Cousins',\n",
    "    connectgaps=True,\n",
    "    line = dict(\n",
    "        color = ('rgb(222, 96, 167)'),\n",
    "        width = 4,\n",
    "        dash = 'dot')\n",
    ")\n",
    "trace7 = go.Scatter(\n",
    "    x = final_df.Year[final_df.Player == 'Wes Unseld*'],\n",
    "    y = final_df.dpg[final_df.Player == 'Wes Unseld*'],\n",
    "    name = 'Wes Unseld',\n",
    "    connectgaps=True,\n",
    "    line = dict(\n",
    "        color = ('rgb(212, 96, 167)'),\n",
    "        width = 4,\n",
    "        dash = 'dot')\n",
    ")\n",
    "data = [trace0, trace1, trace2, trace3, trace4, trace5, trace6, trace7]\n",
    "\n",
    "# Edit the layout\n",
    "layout = dict(title = 'Dribbles per game for Top players',\n",
    "              xaxis = dict(title = 'Year'),\n",
    "              yaxis = dict(title = 'FGPG'),\n",
    "              )\n",
    "\n",
    "fig = dict(data=data, layout=layout)\n",
    "py.iplot(fig, filename='styled-line')"
   ]
  },
  {
   "cell_type": "markdown",
   "metadata": {
    "_uuid": "443a53634fce18b082c2d5968f8ddb1e331195cd"
   },
   "source": []
  },
  {
   "cell_type": "markdown",
   "metadata": {
    "_uuid": "7731114fb6e138feb743d4c89fa99db39646b4f3"
   },
   "source": [
    "**Despite some critics who felt Cowens was too small to play center, Cowens was selected as the fourth overall pick by the Boston Celtics during the 1970 NBA draft, largely at the recommendation of former Celtics center Bill Russell. During his rookie year, Cowens averaged 17.0 points per game and 15.0 rebounds per game. He was named to the NBA All-Rookie First Team and shared the NBA's Rookie of the Year honors with Portland's Geoff Petrie. He also led the league in personal fouls that same year.**\n",
    "\n",
    "**In 1973, Cowens averaged 20.5 ppg and 16.2 rpg while helping the Celtics to a league best 68-14 record. He was chosen the NBA MVP as well as MVP of the All-Star Game that same season. Cowens and fellow Celtic Bill Russell both have the distinction of being named MVP of the league but not being included on the All-NBA First Team.**\n",
    "\n",
    "**Cowens retired in 1980, however, in 1982 he was coaxed out of retirement by the Milwaukee Bucks, who were then coached by his former Celtics teammate Don Nelson. The Celtics still held his rights at the time so the Bucks gave up Quinn Buckner as compensation. Cowens played for the Bucks during the 1982–83 season before retiring for good.**\n",
    "\n",
    "**During his NBA career, Cowens averaged 17.6 points and 13.6 rebounds per game, was selected to eight All-Star Games, was named to the All-NBA Second Team three times, and was named to the All-NBA Defensive First Team in 1976 and All-NBA Defensive Second Team in 1973 and 1980. He was a member of the Celtics' 1974 and 1976 NBA Championship teams.**\n",
    "\n",
    "**Cowens' playing credo was all-out intensity at both ends of the court, a style that never wavered during his 11-year NBA career.**\n",
    "\n",
    "**As a testament to his all-around ability, Cowens is one of only five players (Scottie Pippen, Kevin Garnett, LeBron James, and Giannis Antetokounmpo are the others) to lead his team in all five major statistical categories for a season: points, rebounds, assists, blocks, and steals. He accomplished the feat in the 1977–78 season.**"
   ]
  },
  {
   "cell_type": "markdown",
   "metadata": {
    "_uuid": "4781059c4ab69904c1101f493ecb99e37a61ca81"
   },
   "source": [
    "# Players career length"
   ]
  },
  {
   "cell_type": "code",
   "execution_count": null,
   "metadata": {
    "_kg_hide-input": true,
    "_uuid": "ccf5fea420f120c11268c840d1f7bc62adfffb4f"
   },
   "outputs": [],
   "source": [
    " players_data['career'] = players_data[\"year_end\"] - players_data[\"year_start\"]"
   ]
  },
  {
   "cell_type": "code",
   "execution_count": null,
   "metadata": {
    "_kg_hide-input": true,
    "_uuid": "3e3a8db9f29593247d9444a6c66c4560cb9d87fb"
   },
   "outputs": [],
   "source": [
    "lengthy_career = pd.DataFrame()\n",
    "lengthy_career['player'] = players_data.groupby('Player').mean()['career'].index\n",
    "lengthy_career['career_length'] = players_data.groupby('Player').mean()['career'].values\n",
    "lengthy_career= lengthy_career.sort_values('career_length', ascending = False).head(10)"
   ]
  },
  {
   "cell_type": "code",
   "execution_count": null,
   "metadata": {
    "_kg_hide-input": true,
    "_uuid": "a3d10bdf7359b7113006b81547ec4784979ef54b"
   },
   "outputs": [],
   "source": [
    "trace0 = go.Bar(\n",
    "    x=lengthy_career['player'].head(10),\n",
    "    y=lengthy_career['career_length'].head(10),\n",
    "    marker=dict(\n",
    "        color= random_colors(10),\n",
    "       \n",
    "        \n",
    "    ),\n",
    "    opacity=0.6\n",
    ")\n",
    "\n",
    "data = [trace0]\n",
    "layout = go.Layout(\n",
    "    title='Top ten players with lenghty career',\n",
    ")\n",
    "\n",
    "fig = go.Figure(data=data, layout=layout)\n",
    "py.iplot(fig, filename='text-hover-bar')"
   ]
  },
  {
   "cell_type": "markdown",
   "metadata": {
    "_uuid": "48f94d5b38f247533eaf611ad2c75395e03b17bb"
   },
   "source": [
    "**Willis is one of fifteen players in NBA history with over 16,000 career points and 11,000 career rebounds. He was named to the NBA Eastern Conference All-Star Team in 1992, when he finished the season with a career-high average of 15.5 rebounds a game. Willis holds career averages of 12.2 ppg, 8.4 rpg, and 0.9 apg while averaging 27 minutes per game in 21 NBA seasons. He shares the record for most seasons played in the NBA with Robert Parish, Kevin Garnett, Vince Carter and Dirk Nowitzki.**"
   ]
  },
  {
   "cell_type": "markdown",
   "metadata": {
    "_uuid": "a823241aa087a4df07d092e219603ba216aea8df"
   },
   "source": [
    "# How LeBron James Became Stephen Curry\n",
    "\n",
    "**He’s shooting more 3-pointers, longer 3-pointers and trickier 3-pointers. The best player in the NBA has adapted to basketball’s evolution.**"
   ]
  },
  {
   "cell_type": "code",
   "execution_count": null,
   "metadata": {
    "_kg_hide-input": true,
    "_uuid": "93a5ca35222842e163e817ac0f3e3892b7ae3a3f"
   },
   "outputs": [],
   "source": [
    "# Create and style traces\n",
    "trace0 = go.Scatter(\n",
    "    x = final_df.Year[final_df.Player == 'LeBron James'],\n",
    "    y = final_df.ppg[final_df.Player == 'LeBron James'],\n",
    "    name = 'LeBron James PPG',\n",
    "    connectgaps=True,\n",
    "    line = dict(\n",
    "        color = ('rgb(205, 12, 24)'),\n",
    "        width = 4)\n",
    ")\n",
    "trace1 = go.Scatter(\n",
    "    x = final_df.Year[final_df.Player == 'Stephen Curry'],\n",
    "    y = final_df.ppg[final_df.Player == 'Stephen Curry'],\n",
    "    name = 'Stephen Curry PPG',\n",
    "    connectgaps=True,\n",
    "    line = dict(\n",
    "        color = ('rgb(22, 96, 167)'),\n",
    "        width = 4,)\n",
    ")\n",
    "trace2 = go.Scatter(\n",
    "    x = final_df.Year[final_df.Player == 'LeBron James'],\n",
    "    y = final_df.apg[final_df.Player == 'LeBron James'],\n",
    "    name = 'LeBron James APG',\n",
    "    connectgaps=True,\n",
    "    line = dict(\n",
    "        color = ('rgb(205, 12, 24)'),\n",
    "        width = 4,\n",
    "        dash = 'dash') # dash options include 'dash', 'dot', and 'dashdot'\n",
    ")\n",
    "trace3 = go.Scatter(\n",
    "    x = final_df.Year[final_df.Player == 'Stephen Curry'],\n",
    "    y = final_df.apg[final_df.Player == 'Stephen Curry'],\n",
    "    name = 'Stephen Curry APG',\n",
    "    connectgaps=True,\n",
    "    line = dict(\n",
    "        color = ('rgb(22, 96, 167)'),\n",
    "        width = 4,\n",
    "        dash = 'dash')\n",
    ")\n",
    "trace4 = go.Scatter(\n",
    "    x = final_df.Year[final_df.Player == 'LeBron James'],\n",
    "    y = final_df.threeppg[final_df.Player == 'LeBron James'],\n",
    "    name = 'LeBron James 3PPG',\n",
    "    connectgaps=True,\n",
    "    line = dict(\n",
    "        color = ('rgb(205, 12, 24)'),\n",
    "        width = 4,\n",
    "        dash = 'dot')\n",
    ")\n",
    "trace5 = go.Scatter(\n",
    "    x = final_df.Year[final_df.Player == 'Stephen Curry'],\n",
    "    y = final_df.threeppg[final_df.Player == 'Stephen Curry'],\n",
    "    name = 'Stephen Curry 3PPG',\n",
    "    connectgaps=True,\n",
    "    line = dict(\n",
    "        color = ('rgb(22, 96, 167)'),\n",
    "        width = 4,\n",
    "        dash = 'dot')\n",
    ")\n",
    "trace6 = go.Scatter(\n",
    "    x = final_df.Year[final_df.Player == 'LeBron James'],\n",
    "    y = final_df.rpg[final_df.Player == 'LeBron James'],\n",
    "    name = 'LeBron James RPG',\n",
    "    connectgaps=True,\n",
    "    line = dict(\n",
    "        color = ('rgb(222, 96, 167)'),\n",
    "        width = 4,\n",
    "        dash = 'dot')\n",
    ")\n",
    "trace7 = go.Scatter(\n",
    "    x = final_df.Year[final_df.Player == 'Stephen Curry'],\n",
    "    y = final_df.rpg[final_df.Player == 'Stephen Curry'],\n",
    "    name = 'Stephen Curry RPG',\n",
    "    connectgaps=True,\n",
    "    line = dict(\n",
    "        color = ('rgb(21, 96, 167)'),\n",
    "        width = 4,\n",
    "        dash = 'dot')\n",
    ")\n",
    "data = [trace0, trace1, trace2, trace3, trace4, trace5, trace6, trace7]\n",
    "\n",
    "# Edit the layout\n",
    "layout = dict(title = 'Has LeBron James remodified himself into Stephen Curry gameplay? ',\n",
    "              xaxis = dict(title = 'Year'),\n",
    "              yaxis = dict(title = 'Per Game'),\n",
    "              )\n",
    "\n",
    "fig = dict(data=data, layout=layout)\n",
    "py.iplot(fig, filename='styled-line')"
   ]
  },
  {
   "cell_type": "markdown",
   "metadata": {
    "_uuid": "2d6d36bcaee9944c4c0648b45de36eee55e0191c"
   },
   "source": [
    "**In the year 2017 james excels at everything except 3 point per game of Curry's with James having 1.67 per game to curry's 4.10 which is significantly on the larger side.\n",
    "James is a magician when it comes to rebounds per game, having 8.64 per game to curry's 4.46 per game where as Curry's catching up with points per game of james.\n",
    "**"
   ]
  },
  {
   "cell_type": "code",
   "execution_count": null,
   "metadata": {
    "_kg_hide-input": true,
    "_uuid": "8657d6fa9bb6a95096c6b88bf5d99160a4b154a4"
   },
   "outputs": [],
   "source": [
    "trace1 = go.Bar(\n",
    "    x=final_df.Year[final_df.Player == 'LeBron James'],\n",
    "    y=final_df['3P%'][final_df.Player == 'LeBron James'],\n",
    "    name='LeBron James'\n",
    ")\n",
    "trace2 = go.Bar(\n",
    "    x=final_df.Year[final_df.Player == 'Stephen Curry'],\n",
    "    y=final_df['3P%'][final_df.Player == 'Stephen Curry'],\n",
    "    name='Stephen Curry'\n",
    ")\n",
    "\n",
    "data = [trace1, trace2]\n",
    "layout = go.Layout(\n",
    "    barmode='group',\n",
    "    title = 'Has LeBron James converted 3 points more than previous years  ? ',\n",
    "              xaxis = dict(title = 'Year'),\n",
    "              yaxis = dict(title = 'Three point %')\n",
    ")\n",
    "\n",
    "fig = go.Figure(data=data, layout=layout)\n",
    "py.iplot(fig, filename='grouped-bar')"
   ]
  },
  {
   "cell_type": "markdown",
   "metadata": {
    "_uuid": "0ead820116aa2e54829263215c7de3c3bd5eded2"
   },
   "source": [
    "**We can conclude that after a dip in 2012 LeBron james has improved on his 3 points shooting matching his early days 3 points chart. **"
   ]
  },
  {
   "cell_type": "code",
   "execution_count": null,
   "metadata": {
    "_kg_hide-input": true,
    "_uuid": "0946f1c590d07081ae1cf84e88f7ac017dd1fcd7"
   },
   "outputs": [],
   "source": [
    "trace1 = go.Bar(\n",
    "    x=final_df.Year[final_df.Player == 'LeBron James'],\n",
    "    y=final_df['3PA'][final_df.Player == 'LeBron James'],\n",
    "    name='LeBron James'\n",
    ")\n",
    "trace2 = go.Bar(\n",
    "    x=final_df.Year[final_df.Player == 'Stephen Curry'],\n",
    "    y=final_df['3PA'][final_df.Player == 'Stephen Curry'],\n",
    "    name='Stephen Curry'\n",
    ")\n",
    "\n",
    "data = [trace1, trace2]\n",
    "layout = go.Layout(\n",
    "    barmode='group',\n",
    "    title = 'Has LeBron James tried shooting for 3 points more than previous years  ? ',\n",
    "              xaxis = dict(title = 'Year'),\n",
    "              yaxis = dict(title = 'Three point Attempts')\n",
    ")\n",
    "\n",
    "fig = go.Figure(data=data, layout=layout)\n",
    "py.iplot(fig, filename='grouped-bar')"
   ]
  },
  {
   "cell_type": "code",
   "execution_count": null,
   "metadata": {
    "_kg_hide-input": true,
    "_uuid": "66abe3bf9bd0e624e5b9a10fa5bd9bb8b7052386"
   },
   "outputs": [],
   "source": [
    "trace1 = go.Bar(\n",
    "    x=final_df.Year[final_df.Player == 'LeBron James'],\n",
    "    y=final_df['rpg'][final_df.Player == 'LeBron James'],\n",
    "    name='LeBron James'\n",
    ")\n",
    "trace2 = go.Bar(\n",
    "    x=final_df.Year[final_df.Player == 'Stephen Curry'],\n",
    "    y=final_df['rpg'][final_df.Player == 'Stephen Curry'],\n",
    "    name='Stephen Curry'\n",
    ")\n",
    "\n",
    "data = [trace1, trace2]\n",
    "layout = go.Layout(\n",
    "    barmode='group',\n",
    "    title = 'Has Stephen Curry improved rebounds compared to James in previous years  ? ',\n",
    "              xaxis = dict(title = 'Year'),\n",
    "              yaxis = dict(title = 'Rebounds per game')\n",
    ")\n",
    "\n",
    "fig = go.Figure(data=data, layout=layout)\n",
    "py.iplot(fig, filename='grouped-bar')"
   ]
  },
  {
   "cell_type": "markdown",
   "metadata": {
    "_uuid": "e59295e47289a5424ddb4be2cb3a2378f1b59be0"
   },
   "source": [
    "**We can conclude that ever since 2010 debut Curry has improved on his rebounds per game but he's nowhere close to LeBron james's rebounds per game  **"
   ]
  },
  {
   "cell_type": "markdown",
   "metadata": {
    "_uuid": "be5cdd6a53c4a4472cbbd1cdfc744d5d8844ca33"
   },
   "source": [
    "# Player who can dribble past the defense and score/assists "
   ]
  },
  {
   "cell_type": "code",
   "execution_count": null,
   "metadata": {
    "_kg_hide-input": true,
    "_uuid": "f3bdbfd34108a001e50001ab23015647ce52f90c"
   },
   "outputs": [],
   "source": [
    "trace1 = go.Scatter3d(\n",
    "    x=final_df['dpg'].where(final_df['dpg'] > 8.0),\n",
    "    y=final_df['apg'].where(final_df['apg'] > 8.0),\n",
    "    z=final_df['ppg'].where(final_df['ppg'] > 25.0),\n",
    "    text = final_df.Player,\n",
    "    mode='markers',\n",
    "    marker=dict(\n",
    "        size=12,\n",
    "        color=random_colors(50),                # set color to an array/list of desired values\n",
    "        colorscale='Viridis',   # choose a colorscale\n",
    "        opacity=0.8\n",
    "    )\n",
    ")\n",
    "\n",
    "data = [trace1]\n",
    "layout=go.Layout(width=800, height=800, title = 'Top players which you can dribble past whole defense and score ',\n",
    "              scene = dict(xaxis=dict(title='Dribbling',\n",
    "                                      titlefont=dict(color='Orange')),\n",
    "                            yaxis=dict(title='Assists',\n",
    "                                       titlefont=dict(color='rgb(220, 220, 220)')),\n",
    "                            zaxis=dict(title='Points',\n",
    "                                       titlefont=dict(color='rgb(220, 220, 220)')),\n",
    "                            bgcolor = 'rgb(20, 24, 54)'\n",
    "                           )\n",
    "             )\n",
    "fig = go.Figure(data=data, layout=layout)\n",
    "py.iplot(fig, filename='3d-scatter-colorscale')"
   ]
  },
  {
   "cell_type": "markdown",
   "metadata": {
    "_uuid": "351308f0db83aa450c7f6c95915618170aa4eeaf"
   },
   "source": [
    "** Russell Westbrook is the player who carries Oklahoma thunders on his back, maybe Durant was his only partner until he moved to Warriors, you got to watch this player's dunk and dribbling ability during the game to feel what i feel..**"
   ]
  },
  {
   "cell_type": "markdown",
   "metadata": {
    "_uuid": "99b5a9e23d86d2de5c1a21fc91648a43b70feeb6"
   },
   "source": []
  },
  {
   "cell_type": "markdown",
   "metadata": {
    "_uuid": "df93c733589aa1443e91d81d0ff015a1767edb98"
   },
   "source": [
    "# Which state has produced more NBA players?"
   ]
  },
  {
   "cell_type": "code",
   "execution_count": null,
   "metadata": {
    "_kg_hide-input": true,
    "_uuid": "9973729c56af0bd6004da04ff7c3be575d0b7b1b"
   },
   "outputs": [],
   "source": [
    "county_count = players['birth_state'].value_counts()\n",
    "trace = go.Pie(labels=county_count.index, values=county_count.values, hole=0.6,textinfo= \"none\")\n",
    "layout = go.Layout(\n",
    "    title='Percentage of players by states'\n",
    ")\n",
    "fig = go.Figure(data=[trace], layout=layout)\n",
    "iplot(fig, filename=\"plotting-library\")"
   ]
  },
  {
   "cell_type": "markdown",
   "metadata": {
    "_uuid": "7e926cd7afff6850696b495d0b80fa470b70569a"
   },
   "source": [
    "**California has produced more number of NBA players compared to other states as many players birth state belongs to California, is that maybe due to football obsessions in country sides?  **"
   ]
  },
  {
   "cell_type": "code",
   "execution_count": null,
   "metadata": {
    "_kg_hide-input": true,
    "_uuid": "bf0101c4c7453678b15bc436fc47da32ffa8bf3d"
   },
   "outputs": [],
   "source": [
    "college_DA = ' '.join(players_data['college'].tolist())"
   ]
  },
  {
   "cell_type": "code",
   "execution_count": null,
   "metadata": {
    "_kg_hide-input": true,
    "_uuid": "1612b62900468b25849ed47c78b61d53aa37beb3"
   },
   "outputs": [],
   "source": [
    "college_DAA = \"\".join(str(v) for v in college_DA).lower()"
   ]
  },
  {
   "cell_type": "markdown",
   "metadata": {
    "_uuid": "a2ddb7ef621c3cf180e759efcf44906940266018"
   },
   "source": [
    "# College producing more number of NBA players"
   ]
  },
  {
   "cell_type": "code",
   "execution_count": null,
   "metadata": {
    "_kg_hide-input": true,
    "_uuid": "ef3f1927dfa9aef48d3346a0dce50e366f1d05c2",
    "scrolled": true
   },
   "outputs": [],
   "source": [
    "import matplotlib.pyplot as plt\n",
    "from wordcloud import WordCloud\n",
    "sns.set(rc={'figure.figsize':(11.7,8.27)})\n",
    "\n",
    "wordcloud = WordCloud(background_color=\"white\").generate(college_DAA)\n",
    "plt.figure()\n",
    "plt.imshow(wordcloud, interpolation=\"bilinear\")\n",
    "plt.axis(\"off\")\n",
    "plt.margins(x=0, y=0)\n",
    "plt.title('Popular colleges for NBA players',size=24)\n",
    "plt.show()"
   ]
  },
  {
   "cell_type": "code",
   "execution_count": null,
   "metadata": {
    "_uuid": "cc13b43b3c08dd69c6ead1f0513141d178cce4de"
   },
   "outputs": [],
   "source": []
  },
  {
   "cell_type": "markdown",
   "metadata": {
    "_uuid": "6ec57ff975e4e6ac8dc7b996b4e6b0e2a594ca40"
   },
   "source": [
    "# Neural network for predicting Points per game of the players"
   ]
  },
  {
   "cell_type": "code",
   "execution_count": null,
   "metadata": {
    "_uuid": "0af92351cc03b44277e24d36911cef031ca43721"
   },
   "outputs": [],
   "source": [
    "from sklearn.model_selection import train_test_split\n",
    "from sklearn.preprocessing import LabelBinarizer, StandardScaler\n",
    "import keras\n",
    "from keras.wrappers.scikit_learn import KerasRegressor\n",
    "from sklearn.preprocessing import MinMaxScaler\n",
    "from __future__ import absolute_import\n",
    "from __future__ import division\n",
    "from __future__ import print_function\n",
    "\n",
    "from keras.models import Sequential\n",
    "from keras.layers import Dense, Activation, Dropout"
   ]
  },
  {
   "cell_type": "code",
   "execution_count": null,
   "metadata": {
    "_uuid": "f32376a548a2fce5a3c3d4d2e1e470944373b3b0"
   },
   "outputs": [],
   "source": [
    "#removal of non relevant columns\n",
    "train = final_df.drop(['Player','Pos','blanl', 'blank2', 'Tm'], axis=1)"
   ]
  },
  {
   "cell_type": "code",
   "execution_count": null,
   "metadata": {
    "_kg_hide-input": true,
    "_kg_hide-output": true,
    "_uuid": "ec50ae6bf7aa5af868ab7b7147b9219f5072b237"
   },
   "outputs": [],
   "source": [
    "train= train.fillna(0)"
   ]
  },
  {
   "cell_type": "code",
   "execution_count": null,
   "metadata": {
    "_uuid": "ca2433a65fcd82199664ba6d2ea40ccec1ebfeb4"
   },
   "outputs": [],
   "source": [
    "#watch the dataset\n",
    "train.head()"
   ]
  },
  {
   "cell_type": "code",
   "execution_count": null,
   "metadata": {
    "_uuid": "3d136905e28e46a7c49f46ed0ba785e751a76880"
   },
   "outputs": [],
   "source": [
    "#splitting the label\n",
    "X = train.drop(['ppg'], axis=1).as_matrix()\n",
    "y = train['ppg'].as_matrix()\n"
   ]
  },
  {
   "cell_type": "code",
   "execution_count": null,
   "metadata": {
    "_uuid": "ec44a46151c4ee2ff85b4c327ce6d34b25fe8a0e"
   },
   "outputs": [],
   "source": [
    "#Test train validation set splitting\n",
    "X_train, X_test, y_train, y_test = train_test_split(X, y, test_size=0.2, random_state=1)\n",
    "X_train, X_val, y_train, y_val = train_test_split(X_train, y_train, test_size=0.2, random_state=1)"
   ]
  },
  {
   "cell_type": "markdown",
   "metadata": {
    "_uuid": "a16184d30b0347c6063ea3e3afa4171afea8a76c"
   },
   "source": [
    "# Random Forest + GridSearchCV "
   ]
  },
  {
   "cell_type": "code",
   "execution_count": null,
   "metadata": {
    "_uuid": "cafafb64ab9d657f33da1720b6141d0eabf0ed07"
   },
   "outputs": [],
   "source": [
    "from sklearn.ensemble import RandomForestRegressor\n",
    "from sklearn.model_selection import GridSearchCV\n",
    "\n",
    "# Choose the type of regressor. \n",
    "RFR = RandomForestRegressor()\n",
    "\n",
    "# Choose some parameter combinations to try\n",
    "#YOU CAN TRY DIFFERENTS PARAMETERS TO FIND THE BEST MODEL\n",
    "parameters = {'n_estimators': [5, 10, 100],\n",
    "              #'criterion': ['mse'],\n",
    "              #'max_depth': [5, 10, 15], \n",
    "              #'min_samples_split': [2, 5, 10],\n",
    "              'min_samples_leaf': [1,5]\n",
    "             }\n",
    "\n",
    "# Type of scoring used to compare parameter combinations\n",
    "#We have to use RandomForestRegressor's own scorer (which is R^2 score)\n",
    "\n",
    "# Run the grid search\n",
    "grid_obj = GridSearchCV(RFR, parameters,\n",
    "                        cv=5, #Determines the cross-validation splitting strategy /to specify the number of folds in a (Stratified)KFold\n",
    "                        n_jobs=-1, #Number of jobs to run in parallel\n",
    "                        verbose=1)\n",
    "grid_obj = grid_obj.fit(X_train, y_train)\n",
    "\n",
    "# Set the clf to the best combination of parameters\n",
    "RFR = grid_obj.best_estimator_\n",
    "\n",
    "# Fit the best algorithm to the data. \n",
    "RFR.fit(X_train, y_train)"
   ]
  },
  {
   "cell_type": "code",
   "execution_count": null,
   "metadata": {
    "_uuid": "08062b6a1eb4c969322838b369a9d2347e8aedba"
   },
   "outputs": [],
   "source": [
    "from sklearn.metrics import r2_score\n",
    "from sklearn.metrics import mean_squared_error\n",
    "\n",
    "predictions = RFR.predict(X_val)\n",
    "\n",
    "#if we want to Re-scale, use this lines of code :\n",
    "#predictions = predictions * (max_train - min_train) + min_train\n",
    "#y_validation_RF = y_validation * (max_train - min_train) + min_train\n",
    "\n",
    "#if not, keep this one:\n",
    "y_validation_RF = y_val\n",
    "\n",
    "print('R2 score = ',r2_score(y_validation_RF, predictions), '/ 1.0')\n",
    "print('MSE score = ',mean_squared_error(y_validation_RF, predictions), '/ 0.0')"
   ]
  },
  {
   "cell_type": "code",
   "execution_count": null,
   "metadata": {
    "_uuid": "a4e23539cc8daba9799775a03bef3bb23ed77ef3"
   },
   "outputs": [],
   "source": [
    "# test data predictions\n",
    "predictions = RFR.predict(X_test)\n",
    "\n",
    "y_test_RF = y_test\n",
    "\n",
    "print('R2 score = ',r2_score(y_test_RF, predictions), '/ 1.0')\n",
    "print('MSE score = ',mean_squared_error(y_test_RF, predictions), '/ 0.0')"
   ]
  },
  {
   "cell_type": "code",
   "execution_count": null,
   "metadata": {
    "_uuid": "80546514bf10cd5b9be1372d332250f1d14b5c60"
   },
   "outputs": [],
   "source": [
    "import matplotlib.pyplot as plt"
   ]
  },
  {
   "cell_type": "code",
   "execution_count": null,
   "metadata": {
    "_uuid": "28ed799f4e492c77a7b59e5af5d65fb3e4ff6b73"
   },
   "outputs": [],
   "source": [
    "plt.plot(y_validation_RF[0:50], '+', color ='blue', alpha=0.7)\n",
    "plt.plot(predictions[0:50], 'ro', color ='red', alpha=0.5)\n",
    "plt.title('Prediction vs Real values')\n",
    "plt.show()"
   ]
  },
  {
   "cell_type": "code",
   "execution_count": null,
   "metadata": {
    "_uuid": "ccb6a599a33b3c8324b76e6fa84930ac20779abe"
   },
   "outputs": [],
   "source": [
    "plt.plot(y_test_RF[0:50], '+', color ='blue', alpha=0.7)\n",
    "plt.plot(predictions[0:50], 'ro', color ='red', alpha=0.5)\n",
    "plt.title('Prediction vs Real values')\n",
    "plt.show()"
   ]
  },
  {
   "cell_type": "code",
   "execution_count": null,
   "metadata": {
    "_uuid": "4fc86e53b7e2dfa2fd26efea59b0cde89d1225ab"
   },
   "outputs": [],
   "source": [
    "\n",
    "\n",
    "# Convert data as np.array\n",
    "features = np.array(X_train)\n",
    "targets = np.array(y_train.reshape(y_train.shape[0],1))\n",
    "features_validation= np.array(X_val)\n",
    "targets_validation = np.array(y_val.reshape(y_val.shape[0],1))\n",
    "features_test= np.array(X_test)\n",
    "targets_test = np.array(y_test.reshape(y_test.shape[0],1))\n",
    "\n",
    "print(features[:10])\n",
    "print(targets[:10])"
   ]
  },
  {
   "cell_type": "code",
   "execution_count": null,
   "metadata": {
    "_uuid": "468c0801af386c0504a801d76f2375e3b77d2bca"
   },
   "outputs": [],
   "source": [
    "import keras\n",
    "from keras.models import Sequential\n",
    "from keras.layers.core import Dense, Dropout, Activation\n",
    "\n",
    "# Building the model\n",
    "model = Sequential()\n",
    "model.add(Dense(200, input_dim=55, kernel_initializer='normal', activation='relu'))\n",
    "model.add(Dense(100, kernel_initializer='normal', activation='relu'))\n",
    "model.add(Dense(50, kernel_initializer='normal', activation='relu'))\n",
    "model.add(Dense(25, kernel_initializer='normal', activation='relu'))\n",
    "model.add(Dense(1, kernel_initializer='normal'))\n",
    "\n",
    "# Compiling the model\n",
    "model.compile(loss = 'mse', optimizer='adam', metrics=['mse']) #mse: mean_square_error\n",
    "model.summary()"
   ]
  },
  {
   "cell_type": "code",
   "execution_count": null,
   "metadata": {
    "_uuid": "48da447c2ac06075491579546e5e692264832964"
   },
   "outputs": [],
   "source": [
    "# Training the model\n",
    "epochs_tot = 1000\n",
    "epochs_step = 250\n",
    "epochs_ratio = int(epochs_tot / epochs_step)\n",
    "hist =np.array([])\n",
    "\n",
    "for i in range(epochs_ratio):\n",
    "    history = model.fit(features, targets, epochs=epochs_step, batch_size=100, verbose=0)\n",
    "    \n",
    "    # Evaluating the model on the training and testing set\n",
    "    print(\"Step : \" , i * epochs_step, \"/\", epochs_tot)\n",
    "    score = model.evaluate(features, targets)\n",
    "    print(\"Training MSE:\", score[1])\n",
    "    score = model.evaluate(features_validation, targets_validation)\n",
    "    print(\"Validation MSE:\", score[1], \"\\n\")\n",
    "    hist = np.concatenate((hist, np.array(history.history['mean_squared_error'])), axis = 0)\n",
    "    \n",
    "# plot metrics\n",
    "plt.plot(hist)\n",
    "plt.show()"
   ]
  },
  {
   "cell_type": "code",
   "execution_count": null,
   "metadata": {
    "_uuid": "bf49ac55b2c1e39c4ef33099eec3c6a133a83041"
   },
   "outputs": [],
   "source": [
    "#prediction and error checking\n",
    "predictions = model.predict(features_validation, verbose=0)\n",
    "\n",
    "print('R2 score = ',r2_score(y_val, predictions), '/ 1.0')\n",
    "print('MSE score = ',mean_squared_error(y_val, predictions), '/ 0.0')\n"
   ]
  },
  {
   "cell_type": "code",
   "execution_count": null,
   "metadata": {
    "_uuid": "a42b7f36123d90782176d132a1fd6d3390c3a379"
   },
   "outputs": [],
   "source": [
    "plt.plot(y_val[0:50], '+', color ='blue', alpha=0.7)\n",
    "plt.plot(predictions[0:50], 'ro', color ='red', alpha=0.5)\n",
    "plt.title('Prediction vs Real values')\n",
    "plt.show()"
   ]
  },
  {
   "cell_type": "code",
   "execution_count": null,
   "metadata": {
    "_uuid": "4247fdde3a2fb1ff80a36ac8d25a38beeec4989d"
   },
   "outputs": [],
   "source": [
    "predictions = model.predict(features_test, verbose=0)\n",
    "\n",
    "print('R2 score = ',r2_score(y_test, predictions), '/ 1.0')\n",
    "print('MSE score = ',mean_squared_error(y_test, predictions), '/ 0.0')\n"
   ]
  },
  {
   "cell_type": "code",
   "execution_count": null,
   "metadata": {
    "_uuid": "d21e145ef588b0ffdeb0c8e5b604679522b38a79"
   },
   "outputs": [],
   "source": [
    "plt.plot(y_test[0:50], '+', color ='blue', alpha=0.7)\n",
    "plt.plot(predictions[0:50], 'ro', color ='red', alpha=0.5)\n",
    "plt.title('Prediction vs Real values')\n",
    "plt.show()"
   ]
  },
  {
   "cell_type": "markdown",
   "metadata": {
    "_uuid": "9553a078f47dcceac0c750951fc6e4c965fc726f"
   },
   "source": [
    "# Conclusion"
   ]
  },
  {
   "cell_type": "markdown",
   "metadata": {
    "_uuid": "88d905f6007f11c7c6afbb09180f083e6cf2eb19"
   },
   "source": [
    "**yet to follow.. \n",
    "**"
   ]
  }
 ],
 "metadata": {
  "kernelspec": {
   "display_name": "Python 3",
   "language": "python",
   "name": "python3"
  },
  "language_info": {
   "codemirror_mode": {
    "name": "ipython",
    "version": 3
   },
   "file_extension": ".py",
   "mimetype": "text/x-python",
   "name": "python",
   "nbconvert_exporter": "python",
   "pygments_lexer": "ipython3",
   "version": "3.6.4"
  }
 },
 "nbformat": 4,
 "nbformat_minor": 1
}
